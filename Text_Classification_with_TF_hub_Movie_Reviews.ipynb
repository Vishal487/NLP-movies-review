{
  "nbformat": 4,
  "nbformat_minor": 0,
  "metadata": {
    "colab": {
      "name": "Text Classification with TF hub: Movie Reviews.ipynb",
      "provenance": [],
      "collapsed_sections": [],
      "mount_file_id": "1C5pA-c1AgLMsfVk3wmGiz9TBHU4VhEPQ",
      "authorship_tag": "ABX9TyPflAxpaZFt89aHTIHzkZTx",
      "include_colab_link": true
    },
    "kernelspec": {
      "name": "python3",
      "display_name": "Python 3"
    },
    "accelerator": "GPU",
    "widgets": {
      "application/vnd.jupyter.widget-state+json": {
        "01afdde848b945bf9ea39573b542e05c": {
          "model_module": "@jupyter-widgets/controls",
          "model_name": "HBoxModel",
          "state": {
            "_view_name": "HBoxView",
            "_dom_classes": [],
            "_model_name": "HBoxModel",
            "_view_module": "@jupyter-widgets/controls",
            "_model_module_version": "1.5.0",
            "_view_count": null,
            "_view_module_version": "1.5.0",
            "box_style": "",
            "layout": "IPY_MODEL_0ff3b372d07a435cbc7409a0906e34d6",
            "_model_module": "@jupyter-widgets/controls",
            "children": [
              "IPY_MODEL_fe80a402ecdc49c7bc7295eeb6eb99ba",
              "IPY_MODEL_b6310651390d41128622079337d5a6a0"
            ]
          }
        },
        "0ff3b372d07a435cbc7409a0906e34d6": {
          "model_module": "@jupyter-widgets/base",
          "model_name": "LayoutModel",
          "state": {
            "_view_name": "LayoutView",
            "grid_template_rows": null,
            "right": null,
            "justify_content": null,
            "_view_module": "@jupyter-widgets/base",
            "overflow": null,
            "_model_module_version": "1.2.0",
            "_view_count": null,
            "flex_flow": null,
            "width": null,
            "min_width": null,
            "border": null,
            "align_items": null,
            "bottom": null,
            "_model_module": "@jupyter-widgets/base",
            "top": null,
            "grid_column": null,
            "overflow_y": null,
            "overflow_x": null,
            "grid_auto_flow": null,
            "grid_area": null,
            "grid_template_columns": null,
            "flex": null,
            "_model_name": "LayoutModel",
            "justify_items": null,
            "grid_row": null,
            "max_height": null,
            "align_content": null,
            "visibility": null,
            "align_self": null,
            "height": null,
            "min_height": null,
            "padding": null,
            "grid_auto_rows": null,
            "grid_gap": null,
            "max_width": null,
            "order": null,
            "_view_module_version": "1.2.0",
            "grid_template_areas": null,
            "object_position": null,
            "object_fit": null,
            "grid_auto_columns": null,
            "margin": null,
            "display": null,
            "left": null
          }
        },
        "fe80a402ecdc49c7bc7295eeb6eb99ba": {
          "model_module": "@jupyter-widgets/controls",
          "model_name": "IntProgressModel",
          "state": {
            "_view_name": "ProgressView",
            "style": "IPY_MODEL_d4b1f715dd054b42b1f4c895747ba432",
            "_dom_classes": [],
            "description": "Dl Completed...: 100%",
            "_model_name": "IntProgressModel",
            "bar_style": "success",
            "max": 1,
            "_view_module": "@jupyter-widgets/controls",
            "_model_module_version": "1.5.0",
            "value": 1,
            "_view_count": null,
            "_view_module_version": "1.5.0",
            "orientation": "horizontal",
            "min": 0,
            "description_tooltip": null,
            "_model_module": "@jupyter-widgets/controls",
            "layout": "IPY_MODEL_5b4392bfd3d74457b81c3f08d6c752da"
          }
        },
        "b6310651390d41128622079337d5a6a0": {
          "model_module": "@jupyter-widgets/controls",
          "model_name": "HTMLModel",
          "state": {
            "_view_name": "HTMLView",
            "style": "IPY_MODEL_04b6d0f3a2904ea2bd44e4fad7a91eb3",
            "_dom_classes": [],
            "description": "",
            "_model_name": "HTMLModel",
            "placeholder": "​",
            "_view_module": "@jupyter-widgets/controls",
            "_model_module_version": "1.5.0",
            "value": " 1/1 [00:08&lt;00:00,  8.79s/ url]",
            "_view_count": null,
            "_view_module_version": "1.5.0",
            "description_tooltip": null,
            "_model_module": "@jupyter-widgets/controls",
            "layout": "IPY_MODEL_c8523bfcaa8a4b89862e7bc357a23fda"
          }
        },
        "d4b1f715dd054b42b1f4c895747ba432": {
          "model_module": "@jupyter-widgets/controls",
          "model_name": "ProgressStyleModel",
          "state": {
            "_view_name": "StyleView",
            "_model_name": "ProgressStyleModel",
            "description_width": "initial",
            "_view_module": "@jupyter-widgets/base",
            "_model_module_version": "1.5.0",
            "_view_count": null,
            "_view_module_version": "1.2.0",
            "bar_color": null,
            "_model_module": "@jupyter-widgets/controls"
          }
        },
        "5b4392bfd3d74457b81c3f08d6c752da": {
          "model_module": "@jupyter-widgets/base",
          "model_name": "LayoutModel",
          "state": {
            "_view_name": "LayoutView",
            "grid_template_rows": null,
            "right": null,
            "justify_content": null,
            "_view_module": "@jupyter-widgets/base",
            "overflow": null,
            "_model_module_version": "1.2.0",
            "_view_count": null,
            "flex_flow": null,
            "width": null,
            "min_width": null,
            "border": null,
            "align_items": null,
            "bottom": null,
            "_model_module": "@jupyter-widgets/base",
            "top": null,
            "grid_column": null,
            "overflow_y": null,
            "overflow_x": null,
            "grid_auto_flow": null,
            "grid_area": null,
            "grid_template_columns": null,
            "flex": null,
            "_model_name": "LayoutModel",
            "justify_items": null,
            "grid_row": null,
            "max_height": null,
            "align_content": null,
            "visibility": null,
            "align_self": null,
            "height": null,
            "min_height": null,
            "padding": null,
            "grid_auto_rows": null,
            "grid_gap": null,
            "max_width": null,
            "order": null,
            "_view_module_version": "1.2.0",
            "grid_template_areas": null,
            "object_position": null,
            "object_fit": null,
            "grid_auto_columns": null,
            "margin": null,
            "display": null,
            "left": null
          }
        },
        "04b6d0f3a2904ea2bd44e4fad7a91eb3": {
          "model_module": "@jupyter-widgets/controls",
          "model_name": "DescriptionStyleModel",
          "state": {
            "_view_name": "StyleView",
            "_model_name": "DescriptionStyleModel",
            "description_width": "",
            "_view_module": "@jupyter-widgets/base",
            "_model_module_version": "1.5.0",
            "_view_count": null,
            "_view_module_version": "1.2.0",
            "_model_module": "@jupyter-widgets/controls"
          }
        },
        "c8523bfcaa8a4b89862e7bc357a23fda": {
          "model_module": "@jupyter-widgets/base",
          "model_name": "LayoutModel",
          "state": {
            "_view_name": "LayoutView",
            "grid_template_rows": null,
            "right": null,
            "justify_content": null,
            "_view_module": "@jupyter-widgets/base",
            "overflow": null,
            "_model_module_version": "1.2.0",
            "_view_count": null,
            "flex_flow": null,
            "width": null,
            "min_width": null,
            "border": null,
            "align_items": null,
            "bottom": null,
            "_model_module": "@jupyter-widgets/base",
            "top": null,
            "grid_column": null,
            "overflow_y": null,
            "overflow_x": null,
            "grid_auto_flow": null,
            "grid_area": null,
            "grid_template_columns": null,
            "flex": null,
            "_model_name": "LayoutModel",
            "justify_items": null,
            "grid_row": null,
            "max_height": null,
            "align_content": null,
            "visibility": null,
            "align_self": null,
            "height": null,
            "min_height": null,
            "padding": null,
            "grid_auto_rows": null,
            "grid_gap": null,
            "max_width": null,
            "order": null,
            "_view_module_version": "1.2.0",
            "grid_template_areas": null,
            "object_position": null,
            "object_fit": null,
            "grid_auto_columns": null,
            "margin": null,
            "display": null,
            "left": null
          }
        },
        "2f024e44caf042b6af257c6c9bcb3b85": {
          "model_module": "@jupyter-widgets/controls",
          "model_name": "HBoxModel",
          "state": {
            "_view_name": "HBoxView",
            "_dom_classes": [],
            "_model_name": "HBoxModel",
            "_view_module": "@jupyter-widgets/controls",
            "_model_module_version": "1.5.0",
            "_view_count": null,
            "_view_module_version": "1.5.0",
            "box_style": "",
            "layout": "IPY_MODEL_883981f629074f3b85fde4efb44a7cb3",
            "_model_module": "@jupyter-widgets/controls",
            "children": [
              "IPY_MODEL_806413dfb4d04e01b5c3d6548a1ade53",
              "IPY_MODEL_bc51fb956dce469289ee96e9603aeb96"
            ]
          }
        },
        "883981f629074f3b85fde4efb44a7cb3": {
          "model_module": "@jupyter-widgets/base",
          "model_name": "LayoutModel",
          "state": {
            "_view_name": "LayoutView",
            "grid_template_rows": null,
            "right": null,
            "justify_content": null,
            "_view_module": "@jupyter-widgets/base",
            "overflow": null,
            "_model_module_version": "1.2.0",
            "_view_count": null,
            "flex_flow": null,
            "width": null,
            "min_width": null,
            "border": null,
            "align_items": null,
            "bottom": null,
            "_model_module": "@jupyter-widgets/base",
            "top": null,
            "grid_column": null,
            "overflow_y": null,
            "overflow_x": null,
            "grid_auto_flow": null,
            "grid_area": null,
            "grid_template_columns": null,
            "flex": null,
            "_model_name": "LayoutModel",
            "justify_items": null,
            "grid_row": null,
            "max_height": null,
            "align_content": null,
            "visibility": null,
            "align_self": null,
            "height": null,
            "min_height": null,
            "padding": null,
            "grid_auto_rows": null,
            "grid_gap": null,
            "max_width": null,
            "order": null,
            "_view_module_version": "1.2.0",
            "grid_template_areas": null,
            "object_position": null,
            "object_fit": null,
            "grid_auto_columns": null,
            "margin": null,
            "display": null,
            "left": null
          }
        },
        "806413dfb4d04e01b5c3d6548a1ade53": {
          "model_module": "@jupyter-widgets/controls",
          "model_name": "IntProgressModel",
          "state": {
            "_view_name": "ProgressView",
            "style": "IPY_MODEL_ce1c7ac0437e48d69c6f9bcf2aaf20a8",
            "_dom_classes": [],
            "description": "Dl Size...: 100%",
            "_model_name": "IntProgressModel",
            "bar_style": "success",
            "max": 1,
            "_view_module": "@jupyter-widgets/controls",
            "_model_module_version": "1.5.0",
            "value": 1,
            "_view_count": null,
            "_view_module_version": "1.5.0",
            "orientation": "horizontal",
            "min": 0,
            "description_tooltip": null,
            "_model_module": "@jupyter-widgets/controls",
            "layout": "IPY_MODEL_ff845647eaf24333a2f11cc6830855f6"
          }
        },
        "bc51fb956dce469289ee96e9603aeb96": {
          "model_module": "@jupyter-widgets/controls",
          "model_name": "HTMLModel",
          "state": {
            "_view_name": "HTMLView",
            "style": "IPY_MODEL_4cc5e2ca37d44776a33b86af648746e6",
            "_dom_classes": [],
            "description": "",
            "_model_name": "HTMLModel",
            "placeholder": "​",
            "_view_module": "@jupyter-widgets/controls",
            "_model_module_version": "1.5.0",
            "value": " 80/80 [00:08&lt;00:00,  9.13 MiB/s]",
            "_view_count": null,
            "_view_module_version": "1.5.0",
            "description_tooltip": null,
            "_model_module": "@jupyter-widgets/controls",
            "layout": "IPY_MODEL_8e4e56b7547c46ddab29897a70872711"
          }
        },
        "ce1c7ac0437e48d69c6f9bcf2aaf20a8": {
          "model_module": "@jupyter-widgets/controls",
          "model_name": "ProgressStyleModel",
          "state": {
            "_view_name": "StyleView",
            "_model_name": "ProgressStyleModel",
            "description_width": "initial",
            "_view_module": "@jupyter-widgets/base",
            "_model_module_version": "1.5.0",
            "_view_count": null,
            "_view_module_version": "1.2.0",
            "bar_color": null,
            "_model_module": "@jupyter-widgets/controls"
          }
        },
        "ff845647eaf24333a2f11cc6830855f6": {
          "model_module": "@jupyter-widgets/base",
          "model_name": "LayoutModel",
          "state": {
            "_view_name": "LayoutView",
            "grid_template_rows": null,
            "right": null,
            "justify_content": null,
            "_view_module": "@jupyter-widgets/base",
            "overflow": null,
            "_model_module_version": "1.2.0",
            "_view_count": null,
            "flex_flow": null,
            "width": null,
            "min_width": null,
            "border": null,
            "align_items": null,
            "bottom": null,
            "_model_module": "@jupyter-widgets/base",
            "top": null,
            "grid_column": null,
            "overflow_y": null,
            "overflow_x": null,
            "grid_auto_flow": null,
            "grid_area": null,
            "grid_template_columns": null,
            "flex": null,
            "_model_name": "LayoutModel",
            "justify_items": null,
            "grid_row": null,
            "max_height": null,
            "align_content": null,
            "visibility": null,
            "align_self": null,
            "height": null,
            "min_height": null,
            "padding": null,
            "grid_auto_rows": null,
            "grid_gap": null,
            "max_width": null,
            "order": null,
            "_view_module_version": "1.2.0",
            "grid_template_areas": null,
            "object_position": null,
            "object_fit": null,
            "grid_auto_columns": null,
            "margin": null,
            "display": null,
            "left": null
          }
        },
        "4cc5e2ca37d44776a33b86af648746e6": {
          "model_module": "@jupyter-widgets/controls",
          "model_name": "DescriptionStyleModel",
          "state": {
            "_view_name": "StyleView",
            "_model_name": "DescriptionStyleModel",
            "description_width": "",
            "_view_module": "@jupyter-widgets/base",
            "_model_module_version": "1.5.0",
            "_view_count": null,
            "_view_module_version": "1.2.0",
            "_model_module": "@jupyter-widgets/controls"
          }
        },
        "8e4e56b7547c46ddab29897a70872711": {
          "model_module": "@jupyter-widgets/base",
          "model_name": "LayoutModel",
          "state": {
            "_view_name": "LayoutView",
            "grid_template_rows": null,
            "right": null,
            "justify_content": null,
            "_view_module": "@jupyter-widgets/base",
            "overflow": null,
            "_model_module_version": "1.2.0",
            "_view_count": null,
            "flex_flow": null,
            "width": null,
            "min_width": null,
            "border": null,
            "align_items": null,
            "bottom": null,
            "_model_module": "@jupyter-widgets/base",
            "top": null,
            "grid_column": null,
            "overflow_y": null,
            "overflow_x": null,
            "grid_auto_flow": null,
            "grid_area": null,
            "grid_template_columns": null,
            "flex": null,
            "_model_name": "LayoutModel",
            "justify_items": null,
            "grid_row": null,
            "max_height": null,
            "align_content": null,
            "visibility": null,
            "align_self": null,
            "height": null,
            "min_height": null,
            "padding": null,
            "grid_auto_rows": null,
            "grid_gap": null,
            "max_width": null,
            "order": null,
            "_view_module_version": "1.2.0",
            "grid_template_areas": null,
            "object_position": null,
            "object_fit": null,
            "grid_auto_columns": null,
            "margin": null,
            "display": null,
            "left": null
          }
        },
        "f100f36821f34e898e540a28e48ec8a5": {
          "model_module": "@jupyter-widgets/controls",
          "model_name": "HBoxModel",
          "state": {
            "_view_name": "HBoxView",
            "_dom_classes": [],
            "_model_name": "HBoxModel",
            "_view_module": "@jupyter-widgets/controls",
            "_model_module_version": "1.5.0",
            "_view_count": null,
            "_view_module_version": "1.5.0",
            "box_style": "",
            "layout": "IPY_MODEL_bb0e12c435144f0bb13d5569e3e03a14",
            "_model_module": "@jupyter-widgets/controls",
            "children": [
              "IPY_MODEL_3c1edbc98d7e46a1b58e1207444443ef",
              "IPY_MODEL_32b2e40786574b3683d405d6f57582f1"
            ]
          }
        },
        "bb0e12c435144f0bb13d5569e3e03a14": {
          "model_module": "@jupyter-widgets/base",
          "model_name": "LayoutModel",
          "state": {
            "_view_name": "LayoutView",
            "grid_template_rows": null,
            "right": null,
            "justify_content": null,
            "_view_module": "@jupyter-widgets/base",
            "overflow": null,
            "_model_module_version": "1.2.0",
            "_view_count": null,
            "flex_flow": null,
            "width": null,
            "min_width": null,
            "border": null,
            "align_items": null,
            "bottom": null,
            "_model_module": "@jupyter-widgets/base",
            "top": null,
            "grid_column": null,
            "overflow_y": null,
            "overflow_x": null,
            "grid_auto_flow": null,
            "grid_area": null,
            "grid_template_columns": null,
            "flex": null,
            "_model_name": "LayoutModel",
            "justify_items": null,
            "grid_row": null,
            "max_height": null,
            "align_content": null,
            "visibility": null,
            "align_self": null,
            "height": null,
            "min_height": null,
            "padding": null,
            "grid_auto_rows": null,
            "grid_gap": null,
            "max_width": null,
            "order": null,
            "_view_module_version": "1.2.0",
            "grid_template_areas": null,
            "object_position": null,
            "object_fit": null,
            "grid_auto_columns": null,
            "margin": null,
            "display": null,
            "left": null
          }
        },
        "3c1edbc98d7e46a1b58e1207444443ef": {
          "model_module": "@jupyter-widgets/controls",
          "model_name": "IntProgressModel",
          "state": {
            "_view_name": "ProgressView",
            "style": "IPY_MODEL_e01c7d8f158e40faa95d19a13cc6305c",
            "_dom_classes": [],
            "description": "",
            "_model_name": "IntProgressModel",
            "bar_style": "info",
            "max": 1,
            "_view_module": "@jupyter-widgets/controls",
            "_model_module_version": "1.5.0",
            "value": 1,
            "_view_count": null,
            "_view_module_version": "1.5.0",
            "orientation": "horizontal",
            "min": 0,
            "description_tooltip": null,
            "_model_module": "@jupyter-widgets/controls",
            "layout": "IPY_MODEL_7d96a642ead84769b8c60656efd2af71"
          }
        },
        "32b2e40786574b3683d405d6f57582f1": {
          "model_module": "@jupyter-widgets/controls",
          "model_name": "HTMLModel",
          "state": {
            "_view_name": "HTMLView",
            "style": "IPY_MODEL_abd12c722e0641379613199640839403",
            "_dom_classes": [],
            "description": "",
            "_model_name": "HTMLModel",
            "placeholder": "​",
            "_view_module": "@jupyter-widgets/controls",
            "_model_module_version": "1.5.0",
            "value": " 25000/0 [00:13&lt;00:00, 3173.41 examples/s]",
            "_view_count": null,
            "_view_module_version": "1.5.0",
            "description_tooltip": null,
            "_model_module": "@jupyter-widgets/controls",
            "layout": "IPY_MODEL_d6254fd59c1a4cef8e82f50db6a0cf6c"
          }
        },
        "e01c7d8f158e40faa95d19a13cc6305c": {
          "model_module": "@jupyter-widgets/controls",
          "model_name": "ProgressStyleModel",
          "state": {
            "_view_name": "StyleView",
            "_model_name": "ProgressStyleModel",
            "description_width": "initial",
            "_view_module": "@jupyter-widgets/base",
            "_model_module_version": "1.5.0",
            "_view_count": null,
            "_view_module_version": "1.2.0",
            "bar_color": null,
            "_model_module": "@jupyter-widgets/controls"
          }
        },
        "7d96a642ead84769b8c60656efd2af71": {
          "model_module": "@jupyter-widgets/base",
          "model_name": "LayoutModel",
          "state": {
            "_view_name": "LayoutView",
            "grid_template_rows": null,
            "right": null,
            "justify_content": null,
            "_view_module": "@jupyter-widgets/base",
            "overflow": null,
            "_model_module_version": "1.2.0",
            "_view_count": null,
            "flex_flow": null,
            "width": null,
            "min_width": null,
            "border": null,
            "align_items": null,
            "bottom": null,
            "_model_module": "@jupyter-widgets/base",
            "top": null,
            "grid_column": null,
            "overflow_y": null,
            "overflow_x": null,
            "grid_auto_flow": null,
            "grid_area": null,
            "grid_template_columns": null,
            "flex": null,
            "_model_name": "LayoutModel",
            "justify_items": null,
            "grid_row": null,
            "max_height": null,
            "align_content": null,
            "visibility": null,
            "align_self": null,
            "height": null,
            "min_height": null,
            "padding": null,
            "grid_auto_rows": null,
            "grid_gap": null,
            "max_width": null,
            "order": null,
            "_view_module_version": "1.2.0",
            "grid_template_areas": null,
            "object_position": null,
            "object_fit": null,
            "grid_auto_columns": null,
            "margin": null,
            "display": null,
            "left": null
          }
        },
        "abd12c722e0641379613199640839403": {
          "model_module": "@jupyter-widgets/controls",
          "model_name": "DescriptionStyleModel",
          "state": {
            "_view_name": "StyleView",
            "_model_name": "DescriptionStyleModel",
            "description_width": "",
            "_view_module": "@jupyter-widgets/base",
            "_model_module_version": "1.5.0",
            "_view_count": null,
            "_view_module_version": "1.2.0",
            "_model_module": "@jupyter-widgets/controls"
          }
        },
        "d6254fd59c1a4cef8e82f50db6a0cf6c": {
          "model_module": "@jupyter-widgets/base",
          "model_name": "LayoutModel",
          "state": {
            "_view_name": "LayoutView",
            "grid_template_rows": null,
            "right": null,
            "justify_content": null,
            "_view_module": "@jupyter-widgets/base",
            "overflow": null,
            "_model_module_version": "1.2.0",
            "_view_count": null,
            "flex_flow": null,
            "width": null,
            "min_width": null,
            "border": null,
            "align_items": null,
            "bottom": null,
            "_model_module": "@jupyter-widgets/base",
            "top": null,
            "grid_column": null,
            "overflow_y": null,
            "overflow_x": null,
            "grid_auto_flow": null,
            "grid_area": null,
            "grid_template_columns": null,
            "flex": null,
            "_model_name": "LayoutModel",
            "justify_items": null,
            "grid_row": null,
            "max_height": null,
            "align_content": null,
            "visibility": null,
            "align_self": null,
            "height": null,
            "min_height": null,
            "padding": null,
            "grid_auto_rows": null,
            "grid_gap": null,
            "max_width": null,
            "order": null,
            "_view_module_version": "1.2.0",
            "grid_template_areas": null,
            "object_position": null,
            "object_fit": null,
            "grid_auto_columns": null,
            "margin": null,
            "display": null,
            "left": null
          }
        },
        "483542482fdf42feba5db6eeecf5e00a": {
          "model_module": "@jupyter-widgets/controls",
          "model_name": "HBoxModel",
          "state": {
            "_view_name": "HBoxView",
            "_dom_classes": [],
            "_model_name": "HBoxModel",
            "_view_module": "@jupyter-widgets/controls",
            "_model_module_version": "1.5.0",
            "_view_count": null,
            "_view_module_version": "1.5.0",
            "box_style": "",
            "layout": "IPY_MODEL_7c6a0540f9f44f258419a36e39215f1f",
            "_model_module": "@jupyter-widgets/controls",
            "children": [
              "IPY_MODEL_13a5921416f94bafb9a41fa9027f9398",
              "IPY_MODEL_cee9eabdc0824fccb0fd04799d9b8a43"
            ]
          }
        },
        "7c6a0540f9f44f258419a36e39215f1f": {
          "model_module": "@jupyter-widgets/base",
          "model_name": "LayoutModel",
          "state": {
            "_view_name": "LayoutView",
            "grid_template_rows": null,
            "right": null,
            "justify_content": null,
            "_view_module": "@jupyter-widgets/base",
            "overflow": null,
            "_model_module_version": "1.2.0",
            "_view_count": null,
            "flex_flow": null,
            "width": null,
            "min_width": null,
            "border": null,
            "align_items": null,
            "bottom": null,
            "_model_module": "@jupyter-widgets/base",
            "top": null,
            "grid_column": null,
            "overflow_y": null,
            "overflow_x": null,
            "grid_auto_flow": null,
            "grid_area": null,
            "grid_template_columns": null,
            "flex": null,
            "_model_name": "LayoutModel",
            "justify_items": null,
            "grid_row": null,
            "max_height": null,
            "align_content": null,
            "visibility": null,
            "align_self": null,
            "height": null,
            "min_height": null,
            "padding": null,
            "grid_auto_rows": null,
            "grid_gap": null,
            "max_width": null,
            "order": null,
            "_view_module_version": "1.2.0",
            "grid_template_areas": null,
            "object_position": null,
            "object_fit": null,
            "grid_auto_columns": null,
            "margin": null,
            "display": null,
            "left": null
          }
        },
        "13a5921416f94bafb9a41fa9027f9398": {
          "model_module": "@jupyter-widgets/controls",
          "model_name": "IntProgressModel",
          "state": {
            "_view_name": "ProgressView",
            "style": "IPY_MODEL_e5b9e8c60c0d467483e0316418060d42",
            "_dom_classes": [],
            "description": " 59%",
            "_model_name": "IntProgressModel",
            "bar_style": "danger",
            "max": 25000,
            "_view_module": "@jupyter-widgets/controls",
            "_model_module_version": "1.5.0",
            "value": 14791,
            "_view_count": null,
            "_view_module_version": "1.5.0",
            "orientation": "horizontal",
            "min": 0,
            "description_tooltip": null,
            "_model_module": "@jupyter-widgets/controls",
            "layout": "IPY_MODEL_042780f7ee824b4eb9166e0765384f2a"
          }
        },
        "cee9eabdc0824fccb0fd04799d9b8a43": {
          "model_module": "@jupyter-widgets/controls",
          "model_name": "HTMLModel",
          "state": {
            "_view_name": "HTMLView",
            "style": "IPY_MODEL_d97e7c260f7f441da52ad3d3859c2e76",
            "_dom_classes": [],
            "description": "",
            "_model_name": "HTMLModel",
            "placeholder": "​",
            "_view_module": "@jupyter-widgets/controls",
            "_model_module_version": "1.5.0",
            "value": " 14791/25000 [00:00&lt;00:00, 147908.03 examples/s]",
            "_view_count": null,
            "_view_module_version": "1.5.0",
            "description_tooltip": null,
            "_model_module": "@jupyter-widgets/controls",
            "layout": "IPY_MODEL_7d0fc18600184fc39afa290bd34c477a"
          }
        },
        "e5b9e8c60c0d467483e0316418060d42": {
          "model_module": "@jupyter-widgets/controls",
          "model_name": "ProgressStyleModel",
          "state": {
            "_view_name": "StyleView",
            "_model_name": "ProgressStyleModel",
            "description_width": "initial",
            "_view_module": "@jupyter-widgets/base",
            "_model_module_version": "1.5.0",
            "_view_count": null,
            "_view_module_version": "1.2.0",
            "bar_color": null,
            "_model_module": "@jupyter-widgets/controls"
          }
        },
        "042780f7ee824b4eb9166e0765384f2a": {
          "model_module": "@jupyter-widgets/base",
          "model_name": "LayoutModel",
          "state": {
            "_view_name": "LayoutView",
            "grid_template_rows": null,
            "right": null,
            "justify_content": null,
            "_view_module": "@jupyter-widgets/base",
            "overflow": null,
            "_model_module_version": "1.2.0",
            "_view_count": null,
            "flex_flow": null,
            "width": null,
            "min_width": null,
            "border": null,
            "align_items": null,
            "bottom": null,
            "_model_module": "@jupyter-widgets/base",
            "top": null,
            "grid_column": null,
            "overflow_y": null,
            "overflow_x": null,
            "grid_auto_flow": null,
            "grid_area": null,
            "grid_template_columns": null,
            "flex": null,
            "_model_name": "LayoutModel",
            "justify_items": null,
            "grid_row": null,
            "max_height": null,
            "align_content": null,
            "visibility": null,
            "align_self": null,
            "height": null,
            "min_height": null,
            "padding": null,
            "grid_auto_rows": null,
            "grid_gap": null,
            "max_width": null,
            "order": null,
            "_view_module_version": "1.2.0",
            "grid_template_areas": null,
            "object_position": null,
            "object_fit": null,
            "grid_auto_columns": null,
            "margin": null,
            "display": null,
            "left": null
          }
        },
        "d97e7c260f7f441da52ad3d3859c2e76": {
          "model_module": "@jupyter-widgets/controls",
          "model_name": "DescriptionStyleModel",
          "state": {
            "_view_name": "StyleView",
            "_model_name": "DescriptionStyleModel",
            "description_width": "",
            "_view_module": "@jupyter-widgets/base",
            "_model_module_version": "1.5.0",
            "_view_count": null,
            "_view_module_version": "1.2.0",
            "_model_module": "@jupyter-widgets/controls"
          }
        },
        "7d0fc18600184fc39afa290bd34c477a": {
          "model_module": "@jupyter-widgets/base",
          "model_name": "LayoutModel",
          "state": {
            "_view_name": "LayoutView",
            "grid_template_rows": null,
            "right": null,
            "justify_content": null,
            "_view_module": "@jupyter-widgets/base",
            "overflow": null,
            "_model_module_version": "1.2.0",
            "_view_count": null,
            "flex_flow": null,
            "width": null,
            "min_width": null,
            "border": null,
            "align_items": null,
            "bottom": null,
            "_model_module": "@jupyter-widgets/base",
            "top": null,
            "grid_column": null,
            "overflow_y": null,
            "overflow_x": null,
            "grid_auto_flow": null,
            "grid_area": null,
            "grid_template_columns": null,
            "flex": null,
            "_model_name": "LayoutModel",
            "justify_items": null,
            "grid_row": null,
            "max_height": null,
            "align_content": null,
            "visibility": null,
            "align_self": null,
            "height": null,
            "min_height": null,
            "padding": null,
            "grid_auto_rows": null,
            "grid_gap": null,
            "max_width": null,
            "order": null,
            "_view_module_version": "1.2.0",
            "grid_template_areas": null,
            "object_position": null,
            "object_fit": null,
            "grid_auto_columns": null,
            "margin": null,
            "display": null,
            "left": null
          }
        },
        "763855414be14d2ea00d30bd438230e7": {
          "model_module": "@jupyter-widgets/controls",
          "model_name": "HBoxModel",
          "state": {
            "_view_name": "HBoxView",
            "_dom_classes": [],
            "_model_name": "HBoxModel",
            "_view_module": "@jupyter-widgets/controls",
            "_model_module_version": "1.5.0",
            "_view_count": null,
            "_view_module_version": "1.5.0",
            "box_style": "",
            "layout": "IPY_MODEL_23fdabc209e0485a962ce4844bb2b5b4",
            "_model_module": "@jupyter-widgets/controls",
            "children": [
              "IPY_MODEL_cbdd538554d2406c96722a2122c8af69",
              "IPY_MODEL_fa50e27b349e4e78b898a55d203e34c1"
            ]
          }
        },
        "23fdabc209e0485a962ce4844bb2b5b4": {
          "model_module": "@jupyter-widgets/base",
          "model_name": "LayoutModel",
          "state": {
            "_view_name": "LayoutView",
            "grid_template_rows": null,
            "right": null,
            "justify_content": null,
            "_view_module": "@jupyter-widgets/base",
            "overflow": null,
            "_model_module_version": "1.2.0",
            "_view_count": null,
            "flex_flow": null,
            "width": null,
            "min_width": null,
            "border": null,
            "align_items": null,
            "bottom": null,
            "_model_module": "@jupyter-widgets/base",
            "top": null,
            "grid_column": null,
            "overflow_y": null,
            "overflow_x": null,
            "grid_auto_flow": null,
            "grid_area": null,
            "grid_template_columns": null,
            "flex": null,
            "_model_name": "LayoutModel",
            "justify_items": null,
            "grid_row": null,
            "max_height": null,
            "align_content": null,
            "visibility": null,
            "align_self": null,
            "height": null,
            "min_height": null,
            "padding": null,
            "grid_auto_rows": null,
            "grid_gap": null,
            "max_width": null,
            "order": null,
            "_view_module_version": "1.2.0",
            "grid_template_areas": null,
            "object_position": null,
            "object_fit": null,
            "grid_auto_columns": null,
            "margin": null,
            "display": null,
            "left": null
          }
        },
        "cbdd538554d2406c96722a2122c8af69": {
          "model_module": "@jupyter-widgets/controls",
          "model_name": "IntProgressModel",
          "state": {
            "_view_name": "ProgressView",
            "style": "IPY_MODEL_d81ab08942e84d579063936ef4708e25",
            "_dom_classes": [],
            "description": "",
            "_model_name": "IntProgressModel",
            "bar_style": "info",
            "max": 1,
            "_view_module": "@jupyter-widgets/controls",
            "_model_module_version": "1.5.0",
            "value": 1,
            "_view_count": null,
            "_view_module_version": "1.5.0",
            "orientation": "horizontal",
            "min": 0,
            "description_tooltip": null,
            "_model_module": "@jupyter-widgets/controls",
            "layout": "IPY_MODEL_51b0cfc71ffe48c68f74518a1525de89"
          }
        },
        "fa50e27b349e4e78b898a55d203e34c1": {
          "model_module": "@jupyter-widgets/controls",
          "model_name": "HTMLModel",
          "state": {
            "_view_name": "HTMLView",
            "style": "IPY_MODEL_6dc0ab4ba451430f946fc316fcbd4746",
            "_dom_classes": [],
            "description": "",
            "_model_name": "HTMLModel",
            "placeholder": "​",
            "_view_module": "@jupyter-widgets/controls",
            "_model_module_version": "1.5.0",
            "value": " 25000/0 [00:13&lt;00:00, 3276.19 examples/s]",
            "_view_count": null,
            "_view_module_version": "1.5.0",
            "description_tooltip": null,
            "_model_module": "@jupyter-widgets/controls",
            "layout": "IPY_MODEL_d40e18795921450c8d2575db70e04f66"
          }
        },
        "d81ab08942e84d579063936ef4708e25": {
          "model_module": "@jupyter-widgets/controls",
          "model_name": "ProgressStyleModel",
          "state": {
            "_view_name": "StyleView",
            "_model_name": "ProgressStyleModel",
            "description_width": "initial",
            "_view_module": "@jupyter-widgets/base",
            "_model_module_version": "1.5.0",
            "_view_count": null,
            "_view_module_version": "1.2.0",
            "bar_color": null,
            "_model_module": "@jupyter-widgets/controls"
          }
        },
        "51b0cfc71ffe48c68f74518a1525de89": {
          "model_module": "@jupyter-widgets/base",
          "model_name": "LayoutModel",
          "state": {
            "_view_name": "LayoutView",
            "grid_template_rows": null,
            "right": null,
            "justify_content": null,
            "_view_module": "@jupyter-widgets/base",
            "overflow": null,
            "_model_module_version": "1.2.0",
            "_view_count": null,
            "flex_flow": null,
            "width": null,
            "min_width": null,
            "border": null,
            "align_items": null,
            "bottom": null,
            "_model_module": "@jupyter-widgets/base",
            "top": null,
            "grid_column": null,
            "overflow_y": null,
            "overflow_x": null,
            "grid_auto_flow": null,
            "grid_area": null,
            "grid_template_columns": null,
            "flex": null,
            "_model_name": "LayoutModel",
            "justify_items": null,
            "grid_row": null,
            "max_height": null,
            "align_content": null,
            "visibility": null,
            "align_self": null,
            "height": null,
            "min_height": null,
            "padding": null,
            "grid_auto_rows": null,
            "grid_gap": null,
            "max_width": null,
            "order": null,
            "_view_module_version": "1.2.0",
            "grid_template_areas": null,
            "object_position": null,
            "object_fit": null,
            "grid_auto_columns": null,
            "margin": null,
            "display": null,
            "left": null
          }
        },
        "6dc0ab4ba451430f946fc316fcbd4746": {
          "model_module": "@jupyter-widgets/controls",
          "model_name": "DescriptionStyleModel",
          "state": {
            "_view_name": "StyleView",
            "_model_name": "DescriptionStyleModel",
            "description_width": "",
            "_view_module": "@jupyter-widgets/base",
            "_model_module_version": "1.5.0",
            "_view_count": null,
            "_view_module_version": "1.2.0",
            "_model_module": "@jupyter-widgets/controls"
          }
        },
        "d40e18795921450c8d2575db70e04f66": {
          "model_module": "@jupyter-widgets/base",
          "model_name": "LayoutModel",
          "state": {
            "_view_name": "LayoutView",
            "grid_template_rows": null,
            "right": null,
            "justify_content": null,
            "_view_module": "@jupyter-widgets/base",
            "overflow": null,
            "_model_module_version": "1.2.0",
            "_view_count": null,
            "flex_flow": null,
            "width": null,
            "min_width": null,
            "border": null,
            "align_items": null,
            "bottom": null,
            "_model_module": "@jupyter-widgets/base",
            "top": null,
            "grid_column": null,
            "overflow_y": null,
            "overflow_x": null,
            "grid_auto_flow": null,
            "grid_area": null,
            "grid_template_columns": null,
            "flex": null,
            "_model_name": "LayoutModel",
            "justify_items": null,
            "grid_row": null,
            "max_height": null,
            "align_content": null,
            "visibility": null,
            "align_self": null,
            "height": null,
            "min_height": null,
            "padding": null,
            "grid_auto_rows": null,
            "grid_gap": null,
            "max_width": null,
            "order": null,
            "_view_module_version": "1.2.0",
            "grid_template_areas": null,
            "object_position": null,
            "object_fit": null,
            "grid_auto_columns": null,
            "margin": null,
            "display": null,
            "left": null
          }
        },
        "659d236ba4df44c79179061372a1aa6a": {
          "model_module": "@jupyter-widgets/controls",
          "model_name": "HBoxModel",
          "state": {
            "_view_name": "HBoxView",
            "_dom_classes": [],
            "_model_name": "HBoxModel",
            "_view_module": "@jupyter-widgets/controls",
            "_model_module_version": "1.5.0",
            "_view_count": null,
            "_view_module_version": "1.5.0",
            "box_style": "",
            "layout": "IPY_MODEL_1611f3e38dd249c5976822a7311dd53f",
            "_model_module": "@jupyter-widgets/controls",
            "children": [
              "IPY_MODEL_c56d85f65e654fba905dcde664a0058c",
              "IPY_MODEL_0776d7b094d74f1289f382b3894d670e"
            ]
          }
        },
        "1611f3e38dd249c5976822a7311dd53f": {
          "model_module": "@jupyter-widgets/base",
          "model_name": "LayoutModel",
          "state": {
            "_view_name": "LayoutView",
            "grid_template_rows": null,
            "right": null,
            "justify_content": null,
            "_view_module": "@jupyter-widgets/base",
            "overflow": null,
            "_model_module_version": "1.2.0",
            "_view_count": null,
            "flex_flow": null,
            "width": null,
            "min_width": null,
            "border": null,
            "align_items": null,
            "bottom": null,
            "_model_module": "@jupyter-widgets/base",
            "top": null,
            "grid_column": null,
            "overflow_y": null,
            "overflow_x": null,
            "grid_auto_flow": null,
            "grid_area": null,
            "grid_template_columns": null,
            "flex": null,
            "_model_name": "LayoutModel",
            "justify_items": null,
            "grid_row": null,
            "max_height": null,
            "align_content": null,
            "visibility": null,
            "align_self": null,
            "height": null,
            "min_height": null,
            "padding": null,
            "grid_auto_rows": null,
            "grid_gap": null,
            "max_width": null,
            "order": null,
            "_view_module_version": "1.2.0",
            "grid_template_areas": null,
            "object_position": null,
            "object_fit": null,
            "grid_auto_columns": null,
            "margin": null,
            "display": null,
            "left": null
          }
        },
        "c56d85f65e654fba905dcde664a0058c": {
          "model_module": "@jupyter-widgets/controls",
          "model_name": "IntProgressModel",
          "state": {
            "_view_name": "ProgressView",
            "style": "IPY_MODEL_1062d8c9dfce4618bf5c98a23034dac0",
            "_dom_classes": [],
            "description": " 49%",
            "_model_name": "IntProgressModel",
            "bar_style": "danger",
            "max": 25000,
            "_view_module": "@jupyter-widgets/controls",
            "_model_module_version": "1.5.0",
            "value": 12180,
            "_view_count": null,
            "_view_module_version": "1.5.0",
            "orientation": "horizontal",
            "min": 0,
            "description_tooltip": null,
            "_model_module": "@jupyter-widgets/controls",
            "layout": "IPY_MODEL_bd050412200749c7973129e62cf3f557"
          }
        },
        "0776d7b094d74f1289f382b3894d670e": {
          "model_module": "@jupyter-widgets/controls",
          "model_name": "HTMLModel",
          "state": {
            "_view_name": "HTMLView",
            "style": "IPY_MODEL_c7af916dab504cd68027ee0d97c7900e",
            "_dom_classes": [],
            "description": "",
            "_model_name": "HTMLModel",
            "placeholder": "​",
            "_view_module": "@jupyter-widgets/controls",
            "_model_module_version": "1.5.0",
            "value": " 12180/25000 [00:00&lt;00:00, 121799.83 examples/s]",
            "_view_count": null,
            "_view_module_version": "1.5.0",
            "description_tooltip": null,
            "_model_module": "@jupyter-widgets/controls",
            "layout": "IPY_MODEL_abadc8edf1cc477e8c85c7fd0a817c22"
          }
        },
        "1062d8c9dfce4618bf5c98a23034dac0": {
          "model_module": "@jupyter-widgets/controls",
          "model_name": "ProgressStyleModel",
          "state": {
            "_view_name": "StyleView",
            "_model_name": "ProgressStyleModel",
            "description_width": "initial",
            "_view_module": "@jupyter-widgets/base",
            "_model_module_version": "1.5.0",
            "_view_count": null,
            "_view_module_version": "1.2.0",
            "bar_color": null,
            "_model_module": "@jupyter-widgets/controls"
          }
        },
        "bd050412200749c7973129e62cf3f557": {
          "model_module": "@jupyter-widgets/base",
          "model_name": "LayoutModel",
          "state": {
            "_view_name": "LayoutView",
            "grid_template_rows": null,
            "right": null,
            "justify_content": null,
            "_view_module": "@jupyter-widgets/base",
            "overflow": null,
            "_model_module_version": "1.2.0",
            "_view_count": null,
            "flex_flow": null,
            "width": null,
            "min_width": null,
            "border": null,
            "align_items": null,
            "bottom": null,
            "_model_module": "@jupyter-widgets/base",
            "top": null,
            "grid_column": null,
            "overflow_y": null,
            "overflow_x": null,
            "grid_auto_flow": null,
            "grid_area": null,
            "grid_template_columns": null,
            "flex": null,
            "_model_name": "LayoutModel",
            "justify_items": null,
            "grid_row": null,
            "max_height": null,
            "align_content": null,
            "visibility": null,
            "align_self": null,
            "height": null,
            "min_height": null,
            "padding": null,
            "grid_auto_rows": null,
            "grid_gap": null,
            "max_width": null,
            "order": null,
            "_view_module_version": "1.2.0",
            "grid_template_areas": null,
            "object_position": null,
            "object_fit": null,
            "grid_auto_columns": null,
            "margin": null,
            "display": null,
            "left": null
          }
        },
        "c7af916dab504cd68027ee0d97c7900e": {
          "model_module": "@jupyter-widgets/controls",
          "model_name": "DescriptionStyleModel",
          "state": {
            "_view_name": "StyleView",
            "_model_name": "DescriptionStyleModel",
            "description_width": "",
            "_view_module": "@jupyter-widgets/base",
            "_model_module_version": "1.5.0",
            "_view_count": null,
            "_view_module_version": "1.2.0",
            "_model_module": "@jupyter-widgets/controls"
          }
        },
        "abadc8edf1cc477e8c85c7fd0a817c22": {
          "model_module": "@jupyter-widgets/base",
          "model_name": "LayoutModel",
          "state": {
            "_view_name": "LayoutView",
            "grid_template_rows": null,
            "right": null,
            "justify_content": null,
            "_view_module": "@jupyter-widgets/base",
            "overflow": null,
            "_model_module_version": "1.2.0",
            "_view_count": null,
            "flex_flow": null,
            "width": null,
            "min_width": null,
            "border": null,
            "align_items": null,
            "bottom": null,
            "_model_module": "@jupyter-widgets/base",
            "top": null,
            "grid_column": null,
            "overflow_y": null,
            "overflow_x": null,
            "grid_auto_flow": null,
            "grid_area": null,
            "grid_template_columns": null,
            "flex": null,
            "_model_name": "LayoutModel",
            "justify_items": null,
            "grid_row": null,
            "max_height": null,
            "align_content": null,
            "visibility": null,
            "align_self": null,
            "height": null,
            "min_height": null,
            "padding": null,
            "grid_auto_rows": null,
            "grid_gap": null,
            "max_width": null,
            "order": null,
            "_view_module_version": "1.2.0",
            "grid_template_areas": null,
            "object_position": null,
            "object_fit": null,
            "grid_auto_columns": null,
            "margin": null,
            "display": null,
            "left": null
          }
        },
        "83fce515641c4dabb946134f33b9869c": {
          "model_module": "@jupyter-widgets/controls",
          "model_name": "HBoxModel",
          "state": {
            "_view_name": "HBoxView",
            "_dom_classes": [],
            "_model_name": "HBoxModel",
            "_view_module": "@jupyter-widgets/controls",
            "_model_module_version": "1.5.0",
            "_view_count": null,
            "_view_module_version": "1.5.0",
            "box_style": "",
            "layout": "IPY_MODEL_b9abf9af2b9d44d3ad1886504142e48f",
            "_model_module": "@jupyter-widgets/controls",
            "children": [
              "IPY_MODEL_15d49eacfee744feb1fac66ec8b6e3a3",
              "IPY_MODEL_bbb49cffb02f49ae9af3e0323a06de32"
            ]
          }
        },
        "b9abf9af2b9d44d3ad1886504142e48f": {
          "model_module": "@jupyter-widgets/base",
          "model_name": "LayoutModel",
          "state": {
            "_view_name": "LayoutView",
            "grid_template_rows": null,
            "right": null,
            "justify_content": null,
            "_view_module": "@jupyter-widgets/base",
            "overflow": null,
            "_model_module_version": "1.2.0",
            "_view_count": null,
            "flex_flow": null,
            "width": null,
            "min_width": null,
            "border": null,
            "align_items": null,
            "bottom": null,
            "_model_module": "@jupyter-widgets/base",
            "top": null,
            "grid_column": null,
            "overflow_y": null,
            "overflow_x": null,
            "grid_auto_flow": null,
            "grid_area": null,
            "grid_template_columns": null,
            "flex": null,
            "_model_name": "LayoutModel",
            "justify_items": null,
            "grid_row": null,
            "max_height": null,
            "align_content": null,
            "visibility": null,
            "align_self": null,
            "height": null,
            "min_height": null,
            "padding": null,
            "grid_auto_rows": null,
            "grid_gap": null,
            "max_width": null,
            "order": null,
            "_view_module_version": "1.2.0",
            "grid_template_areas": null,
            "object_position": null,
            "object_fit": null,
            "grid_auto_columns": null,
            "margin": null,
            "display": null,
            "left": null
          }
        },
        "15d49eacfee744feb1fac66ec8b6e3a3": {
          "model_module": "@jupyter-widgets/controls",
          "model_name": "IntProgressModel",
          "state": {
            "_view_name": "ProgressView",
            "style": "IPY_MODEL_099d23a326824e83a676aa922356ee2a",
            "_dom_classes": [],
            "description": "",
            "_model_name": "IntProgressModel",
            "bar_style": "info",
            "max": 1,
            "_view_module": "@jupyter-widgets/controls",
            "_model_module_version": "1.5.0",
            "value": 1,
            "_view_count": null,
            "_view_module_version": "1.5.0",
            "orientation": "horizontal",
            "min": 0,
            "description_tooltip": null,
            "_model_module": "@jupyter-widgets/controls",
            "layout": "IPY_MODEL_725dde9aafa04f05ba84e2895d91b8de"
          }
        },
        "bbb49cffb02f49ae9af3e0323a06de32": {
          "model_module": "@jupyter-widgets/controls",
          "model_name": "HTMLModel",
          "state": {
            "_view_name": "HTMLView",
            "style": "IPY_MODEL_8fc6d8341a69443caf8de5e8bcab1749",
            "_dom_classes": [],
            "description": "",
            "_model_name": "HTMLModel",
            "placeholder": "​",
            "_view_module": "@jupyter-widgets/controls",
            "_model_module_version": "1.5.0",
            "value": " 50000/0 [00:19&lt;00:00, 3300.98 examples/s]",
            "_view_count": null,
            "_view_module_version": "1.5.0",
            "description_tooltip": null,
            "_model_module": "@jupyter-widgets/controls",
            "layout": "IPY_MODEL_aed87eba5c9b40a5a84ebd12b8484029"
          }
        },
        "099d23a326824e83a676aa922356ee2a": {
          "model_module": "@jupyter-widgets/controls",
          "model_name": "ProgressStyleModel",
          "state": {
            "_view_name": "StyleView",
            "_model_name": "ProgressStyleModel",
            "description_width": "initial",
            "_view_module": "@jupyter-widgets/base",
            "_model_module_version": "1.5.0",
            "_view_count": null,
            "_view_module_version": "1.2.0",
            "bar_color": null,
            "_model_module": "@jupyter-widgets/controls"
          }
        },
        "725dde9aafa04f05ba84e2895d91b8de": {
          "model_module": "@jupyter-widgets/base",
          "model_name": "LayoutModel",
          "state": {
            "_view_name": "LayoutView",
            "grid_template_rows": null,
            "right": null,
            "justify_content": null,
            "_view_module": "@jupyter-widgets/base",
            "overflow": null,
            "_model_module_version": "1.2.0",
            "_view_count": null,
            "flex_flow": null,
            "width": null,
            "min_width": null,
            "border": null,
            "align_items": null,
            "bottom": null,
            "_model_module": "@jupyter-widgets/base",
            "top": null,
            "grid_column": null,
            "overflow_y": null,
            "overflow_x": null,
            "grid_auto_flow": null,
            "grid_area": null,
            "grid_template_columns": null,
            "flex": null,
            "_model_name": "LayoutModel",
            "justify_items": null,
            "grid_row": null,
            "max_height": null,
            "align_content": null,
            "visibility": null,
            "align_self": null,
            "height": null,
            "min_height": null,
            "padding": null,
            "grid_auto_rows": null,
            "grid_gap": null,
            "max_width": null,
            "order": null,
            "_view_module_version": "1.2.0",
            "grid_template_areas": null,
            "object_position": null,
            "object_fit": null,
            "grid_auto_columns": null,
            "margin": null,
            "display": null,
            "left": null
          }
        },
        "8fc6d8341a69443caf8de5e8bcab1749": {
          "model_module": "@jupyter-widgets/controls",
          "model_name": "DescriptionStyleModel",
          "state": {
            "_view_name": "StyleView",
            "_model_name": "DescriptionStyleModel",
            "description_width": "",
            "_view_module": "@jupyter-widgets/base",
            "_model_module_version": "1.5.0",
            "_view_count": null,
            "_view_module_version": "1.2.0",
            "_model_module": "@jupyter-widgets/controls"
          }
        },
        "aed87eba5c9b40a5a84ebd12b8484029": {
          "model_module": "@jupyter-widgets/base",
          "model_name": "LayoutModel",
          "state": {
            "_view_name": "LayoutView",
            "grid_template_rows": null,
            "right": null,
            "justify_content": null,
            "_view_module": "@jupyter-widgets/base",
            "overflow": null,
            "_model_module_version": "1.2.0",
            "_view_count": null,
            "flex_flow": null,
            "width": null,
            "min_width": null,
            "border": null,
            "align_items": null,
            "bottom": null,
            "_model_module": "@jupyter-widgets/base",
            "top": null,
            "grid_column": null,
            "overflow_y": null,
            "overflow_x": null,
            "grid_auto_flow": null,
            "grid_area": null,
            "grid_template_columns": null,
            "flex": null,
            "_model_name": "LayoutModel",
            "justify_items": null,
            "grid_row": null,
            "max_height": null,
            "align_content": null,
            "visibility": null,
            "align_self": null,
            "height": null,
            "min_height": null,
            "padding": null,
            "grid_auto_rows": null,
            "grid_gap": null,
            "max_width": null,
            "order": null,
            "_view_module_version": "1.2.0",
            "grid_template_areas": null,
            "object_position": null,
            "object_fit": null,
            "grid_auto_columns": null,
            "margin": null,
            "display": null,
            "left": null
          }
        },
        "6148a062046a427ebb585792cfd6fdb1": {
          "model_module": "@jupyter-widgets/controls",
          "model_name": "HBoxModel",
          "state": {
            "_view_name": "HBoxView",
            "_dom_classes": [],
            "_model_name": "HBoxModel",
            "_view_module": "@jupyter-widgets/controls",
            "_model_module_version": "1.5.0",
            "_view_count": null,
            "_view_module_version": "1.5.0",
            "box_style": "",
            "layout": "IPY_MODEL_638b245a6beb469dab1a7385aa3c2771",
            "_model_module": "@jupyter-widgets/controls",
            "children": [
              "IPY_MODEL_667927cb3d494728a6ea4551f3194084",
              "IPY_MODEL_cd887ad7efdf4bb78955aea2586cd704"
            ]
          }
        },
        "638b245a6beb469dab1a7385aa3c2771": {
          "model_module": "@jupyter-widgets/base",
          "model_name": "LayoutModel",
          "state": {
            "_view_name": "LayoutView",
            "grid_template_rows": null,
            "right": null,
            "justify_content": null,
            "_view_module": "@jupyter-widgets/base",
            "overflow": null,
            "_model_module_version": "1.2.0",
            "_view_count": null,
            "flex_flow": null,
            "width": null,
            "min_width": null,
            "border": null,
            "align_items": null,
            "bottom": null,
            "_model_module": "@jupyter-widgets/base",
            "top": null,
            "grid_column": null,
            "overflow_y": null,
            "overflow_x": null,
            "grid_auto_flow": null,
            "grid_area": null,
            "grid_template_columns": null,
            "flex": null,
            "_model_name": "LayoutModel",
            "justify_items": null,
            "grid_row": null,
            "max_height": null,
            "align_content": null,
            "visibility": null,
            "align_self": null,
            "height": null,
            "min_height": null,
            "padding": null,
            "grid_auto_rows": null,
            "grid_gap": null,
            "max_width": null,
            "order": null,
            "_view_module_version": "1.2.0",
            "grid_template_areas": null,
            "object_position": null,
            "object_fit": null,
            "grid_auto_columns": null,
            "margin": null,
            "display": null,
            "left": null
          }
        },
        "667927cb3d494728a6ea4551f3194084": {
          "model_module": "@jupyter-widgets/controls",
          "model_name": "IntProgressModel",
          "state": {
            "_view_name": "ProgressView",
            "style": "IPY_MODEL_e31f9fe614b74bcba0cdec53af5f3044",
            "_dom_classes": [],
            "description": " 70%",
            "_model_name": "IntProgressModel",
            "bar_style": "danger",
            "max": 50000,
            "_view_module": "@jupyter-widgets/controls",
            "_model_module_version": "1.5.0",
            "value": 35156,
            "_view_count": null,
            "_view_module_version": "1.5.0",
            "orientation": "horizontal",
            "min": 0,
            "description_tooltip": null,
            "_model_module": "@jupyter-widgets/controls",
            "layout": "IPY_MODEL_66573543ebe84acca654d5612db49555"
          }
        },
        "cd887ad7efdf4bb78955aea2586cd704": {
          "model_module": "@jupyter-widgets/controls",
          "model_name": "HTMLModel",
          "state": {
            "_view_name": "HTMLView",
            "style": "IPY_MODEL_cb10669900794bc692e5a6734e1be22e",
            "_dom_classes": [],
            "description": "",
            "_model_name": "HTMLModel",
            "placeholder": "​",
            "_view_module": "@jupyter-widgets/controls",
            "_model_module_version": "1.5.0",
            "value": " 35156/50000 [00:06&lt;00:00, 93528.36 examples/s]",
            "_view_count": null,
            "_view_module_version": "1.5.0",
            "description_tooltip": null,
            "_model_module": "@jupyter-widgets/controls",
            "layout": "IPY_MODEL_a8502728cd1c4505b085d1ac92aecae5"
          }
        },
        "e31f9fe614b74bcba0cdec53af5f3044": {
          "model_module": "@jupyter-widgets/controls",
          "model_name": "ProgressStyleModel",
          "state": {
            "_view_name": "StyleView",
            "_model_name": "ProgressStyleModel",
            "description_width": "initial",
            "_view_module": "@jupyter-widgets/base",
            "_model_module_version": "1.5.0",
            "_view_count": null,
            "_view_module_version": "1.2.0",
            "bar_color": null,
            "_model_module": "@jupyter-widgets/controls"
          }
        },
        "66573543ebe84acca654d5612db49555": {
          "model_module": "@jupyter-widgets/base",
          "model_name": "LayoutModel",
          "state": {
            "_view_name": "LayoutView",
            "grid_template_rows": null,
            "right": null,
            "justify_content": null,
            "_view_module": "@jupyter-widgets/base",
            "overflow": null,
            "_model_module_version": "1.2.0",
            "_view_count": null,
            "flex_flow": null,
            "width": null,
            "min_width": null,
            "border": null,
            "align_items": null,
            "bottom": null,
            "_model_module": "@jupyter-widgets/base",
            "top": null,
            "grid_column": null,
            "overflow_y": null,
            "overflow_x": null,
            "grid_auto_flow": null,
            "grid_area": null,
            "grid_template_columns": null,
            "flex": null,
            "_model_name": "LayoutModel",
            "justify_items": null,
            "grid_row": null,
            "max_height": null,
            "align_content": null,
            "visibility": null,
            "align_self": null,
            "height": null,
            "min_height": null,
            "padding": null,
            "grid_auto_rows": null,
            "grid_gap": null,
            "max_width": null,
            "order": null,
            "_view_module_version": "1.2.0",
            "grid_template_areas": null,
            "object_position": null,
            "object_fit": null,
            "grid_auto_columns": null,
            "margin": null,
            "display": null,
            "left": null
          }
        },
        "cb10669900794bc692e5a6734e1be22e": {
          "model_module": "@jupyter-widgets/controls",
          "model_name": "DescriptionStyleModel",
          "state": {
            "_view_name": "StyleView",
            "_model_name": "DescriptionStyleModel",
            "description_width": "",
            "_view_module": "@jupyter-widgets/base",
            "_model_module_version": "1.5.0",
            "_view_count": null,
            "_view_module_version": "1.2.0",
            "_model_module": "@jupyter-widgets/controls"
          }
        },
        "a8502728cd1c4505b085d1ac92aecae5": {
          "model_module": "@jupyter-widgets/base",
          "model_name": "LayoutModel",
          "state": {
            "_view_name": "LayoutView",
            "grid_template_rows": null,
            "right": null,
            "justify_content": null,
            "_view_module": "@jupyter-widgets/base",
            "overflow": null,
            "_model_module_version": "1.2.0",
            "_view_count": null,
            "flex_flow": null,
            "width": null,
            "min_width": null,
            "border": null,
            "align_items": null,
            "bottom": null,
            "_model_module": "@jupyter-widgets/base",
            "top": null,
            "grid_column": null,
            "overflow_y": null,
            "overflow_x": null,
            "grid_auto_flow": null,
            "grid_area": null,
            "grid_template_columns": null,
            "flex": null,
            "_model_name": "LayoutModel",
            "justify_items": null,
            "grid_row": null,
            "max_height": null,
            "align_content": null,
            "visibility": null,
            "align_self": null,
            "height": null,
            "min_height": null,
            "padding": null,
            "grid_auto_rows": null,
            "grid_gap": null,
            "max_width": null,
            "order": null,
            "_view_module_version": "1.2.0",
            "grid_template_areas": null,
            "object_position": null,
            "object_fit": null,
            "grid_auto_columns": null,
            "margin": null,
            "display": null,
            "left": null
          }
        }
      }
    }
  },
  "cells": [
    {
      "cell_type": "markdown",
      "metadata": {
        "id": "view-in-github",
        "colab_type": "text"
      },
      "source": [
        "<a href=\"https://colab.research.google.com/github/Vishal487/NLP-movies-review/blob/master/Text_Classification_with_TF_hub_Movie_Reviews.ipynb\" target=\"_parent\"><img src=\"https://colab.research.google.com/assets/colab-badge.svg\" alt=\"Open In Colab\"/></a>"
      ]
    },
    {
      "cell_type": "markdown",
      "metadata": {
        "id": "0auLdTSlo2zi",
        "colab_type": "text"
      },
      "source": [
        "This notebook classifies movie reviews as `positive or negative` using the text of the review. This is an example of `binary` or `two-class—classification`, an `important` and widely applicable kind of machine learning problem.\n",
        "\n",
        "The tutorial demonstrates the basic application of `transfer learning with TensorFlow Hub and Keras.`"
      ]
    },
    {
      "cell_type": "code",
      "metadata": {
        "id": "_Pc1ei_Lo7fD",
        "colab_type": "code",
        "colab": {
          "base_uri": "https://localhost:8080/",
          "height": 101
        },
        "outputId": "e7838aed-5127-443f-e560-14c1c1ac0d43"
      },
      "source": [
        "import numpy as np\n",
        "import pandas as pd\n",
        "import tensorflow as tf\n",
        "\n",
        "!pip install -q tensorflow-hub\n",
        "!pip install -q tfds-nightly\n",
        "import tensorflow_hub as hub\n",
        "import tensorflow_datasets as tfds\n",
        "\n",
        "print(\"Version: \", tf.__version__)\n",
        "print(\"Eager mode: \", tf.executing_eagerly())\n",
        "print(\"Hub version: \", hub.__version__)\n",
        "print(\"GPU is\", \"available\" if tf.config.list_physical_devices(\"GPU\") else \"NOT AVAILABLE\")"
      ],
      "execution_count": null,
      "outputs": [
        {
          "output_type": "stream",
          "text": [
            "\u001b[?25l\r\u001b[K     |                                | 10kB 26.9MB/s eta 0:00:01\r\u001b[K     |▏                               | 20kB 5.1MB/s eta 0:00:01\r\u001b[K     |▎                               | 30kB 5.4MB/s eta 0:00:01\r\u001b[K     |▍                               | 40kB 5.2MB/s eta 0:00:01\r\u001b[K     |▌                               | 51kB 5.2MB/s eta 0:00:01\r\u001b[K     |▋                               | 61kB 6.1MB/s eta 0:00:01\r\u001b[K     |▊                               | 71kB 6.4MB/s eta 0:00:01\r\u001b[K     |▉                               | 81kB 6.0MB/s eta 0:00:01\r\u001b[K     |█                               | 92kB 6.7MB/s eta 0:00:01\r\u001b[K     |█                               | 102kB 7.1MB/s eta 0:00:01\r\u001b[K     |█                               | 112kB 7.1MB/s eta 0:00:01\r\u001b[K     |█▏                              | 122kB 7.1MB/s eta 0:00:01\r\u001b[K     |█▎                              | 133kB 7.1MB/s eta 0:00:01\r\u001b[K     |█▍                              | 143kB 7.1MB/s eta 0:00:01\r\u001b[K     |█▌                              | 153kB 7.1MB/s eta 0:00:01\r\u001b[K     |█▋                              | 163kB 7.1MB/s eta 0:00:01\r\u001b[K     |█▊                              | 174kB 7.1MB/s eta 0:00:01\r\u001b[K     |█▉                              | 184kB 7.1MB/s eta 0:00:01\r\u001b[K     |██                              | 194kB 7.1MB/s eta 0:00:01\r\u001b[K     |██                              | 204kB 7.1MB/s eta 0:00:01\r\u001b[K     |██                              | 215kB 7.1MB/s eta 0:00:01\r\u001b[K     |██▏                             | 225kB 7.1MB/s eta 0:00:01\r\u001b[K     |██▎                             | 235kB 7.1MB/s eta 0:00:01\r\u001b[K     |██▍                             | 245kB 7.1MB/s eta 0:00:01\r\u001b[K     |██▌                             | 256kB 7.1MB/s eta 0:00:01\r\u001b[K     |██▋                             | 266kB 7.1MB/s eta 0:00:01\r\u001b[K     |██▊                             | 276kB 7.1MB/s eta 0:00:01\r\u001b[K     |██▉                             | 286kB 7.1MB/s eta 0:00:01\r\u001b[K     |██▉                             | 296kB 7.1MB/s eta 0:00:01\r\u001b[K     |███                             | 307kB 7.1MB/s eta 0:00:01\r\u001b[K     |███                             | 317kB 7.1MB/s eta 0:00:01\r\u001b[K     |███▏                            | 327kB 7.1MB/s eta 0:00:01\r\u001b[K     |███▎                            | 337kB 7.1MB/s eta 0:00:01\r\u001b[K     |███▍                            | 348kB 7.1MB/s eta 0:00:01\r\u001b[K     |███▌                            | 358kB 7.1MB/s eta 0:00:01\r\u001b[K     |███▋                            | 368kB 7.1MB/s eta 0:00:01\r\u001b[K     |███▊                            | 378kB 7.1MB/s eta 0:00:01\r\u001b[K     |███▉                            | 389kB 7.1MB/s eta 0:00:01\r\u001b[K     |███▉                            | 399kB 7.1MB/s eta 0:00:01\r\u001b[K     |████                            | 409kB 7.1MB/s eta 0:00:01\r\u001b[K     |████                            | 419kB 7.1MB/s eta 0:00:01\r\u001b[K     |████▏                           | 430kB 7.1MB/s eta 0:00:01\r\u001b[K     |████▎                           | 440kB 7.1MB/s eta 0:00:01\r\u001b[K     |████▍                           | 450kB 7.1MB/s eta 0:00:01\r\u001b[K     |████▌                           | 460kB 7.1MB/s eta 0:00:01\r\u001b[K     |████▋                           | 471kB 7.1MB/s eta 0:00:01\r\u001b[K     |████▊                           | 481kB 7.1MB/s eta 0:00:01\r\u001b[K     |████▊                           | 491kB 7.1MB/s eta 0:00:01\r\u001b[K     |████▉                           | 501kB 7.1MB/s eta 0:00:01\r\u001b[K     |█████                           | 512kB 7.1MB/s eta 0:00:01\r\u001b[K     |█████                           | 522kB 7.1MB/s eta 0:00:01\r\u001b[K     |█████▏                          | 532kB 7.1MB/s eta 0:00:01\r\u001b[K     |█████▎                          | 542kB 7.1MB/s eta 0:00:01\r\u001b[K     |█████▍                          | 552kB 7.1MB/s eta 0:00:01\r\u001b[K     |█████▌                          | 563kB 7.1MB/s eta 0:00:01\r\u001b[K     |█████▋                          | 573kB 7.1MB/s eta 0:00:01\r\u001b[K     |█████▊                          | 583kB 7.1MB/s eta 0:00:01\r\u001b[K     |█████▊                          | 593kB 7.1MB/s eta 0:00:01\r\u001b[K     |█████▉                          | 604kB 7.1MB/s eta 0:00:01\r\u001b[K     |██████                          | 614kB 7.1MB/s eta 0:00:01\r\u001b[K     |██████                          | 624kB 7.1MB/s eta 0:00:01\r\u001b[K     |██████▏                         | 634kB 7.1MB/s eta 0:00:01\r\u001b[K     |██████▎                         | 645kB 7.1MB/s eta 0:00:01\r\u001b[K     |██████▍                         | 655kB 7.1MB/s eta 0:00:01\r\u001b[K     |██████▌                         | 665kB 7.1MB/s eta 0:00:01\r\u001b[K     |██████▋                         | 675kB 7.1MB/s eta 0:00:01\r\u001b[K     |██████▋                         | 686kB 7.1MB/s eta 0:00:01\r\u001b[K     |██████▊                         | 696kB 7.1MB/s eta 0:00:01\r\u001b[K     |██████▉                         | 706kB 7.1MB/s eta 0:00:01\r\u001b[K     |███████                         | 716kB 7.1MB/s eta 0:00:01\r\u001b[K     |███████                         | 727kB 7.1MB/s eta 0:00:01\r\u001b[K     |███████▏                        | 737kB 7.1MB/s eta 0:00:01\r\u001b[K     |███████▎                        | 747kB 7.1MB/s eta 0:00:01\r\u001b[K     |███████▍                        | 757kB 7.1MB/s eta 0:00:01\r\u001b[K     |███████▌                        | 768kB 7.1MB/s eta 0:00:01\r\u001b[K     |███████▋                        | 778kB 7.1MB/s eta 0:00:01\r\u001b[K     |███████▋                        | 788kB 7.1MB/s eta 0:00:01\r\u001b[K     |███████▊                        | 798kB 7.1MB/s eta 0:00:01\r\u001b[K     |███████▉                        | 808kB 7.1MB/s eta 0:00:01\r\u001b[K     |████████                        | 819kB 7.1MB/s eta 0:00:01\r\u001b[K     |████████                        | 829kB 7.1MB/s eta 0:00:01\r\u001b[K     |████████▏                       | 839kB 7.1MB/s eta 0:00:01\r\u001b[K     |████████▎                       | 849kB 7.1MB/s eta 0:00:01\r\u001b[K     |████████▍                       | 860kB 7.1MB/s eta 0:00:01\r\u001b[K     |████████▌                       | 870kB 7.1MB/s eta 0:00:01\r\u001b[K     |████████▌                       | 880kB 7.1MB/s eta 0:00:01\r\u001b[K     |████████▋                       | 890kB 7.1MB/s eta 0:00:01\r\u001b[K     |████████▊                       | 901kB 7.1MB/s eta 0:00:01\r\u001b[K     |████████▉                       | 911kB 7.1MB/s eta 0:00:01\r\u001b[K     |█████████                       | 921kB 7.1MB/s eta 0:00:01\r\u001b[K     |█████████                       | 931kB 7.1MB/s eta 0:00:01\r\u001b[K     |█████████▏                      | 942kB 7.1MB/s eta 0:00:01\r\u001b[K     |█████████▎                      | 952kB 7.1MB/s eta 0:00:01\r\u001b[K     |█████████▍                      | 962kB 7.1MB/s eta 0:00:01\r\u001b[K     |█████████▌                      | 972kB 7.1MB/s eta 0:00:01\r\u001b[K     |█████████▌                      | 983kB 7.1MB/s eta 0:00:01\r\u001b[K     |█████████▋                      | 993kB 7.1MB/s eta 0:00:01\r\u001b[K     |█████████▊                      | 1.0MB 7.1MB/s eta 0:00:01\r\u001b[K     |█████████▉                      | 1.0MB 7.1MB/s eta 0:00:01\r\u001b[K     |██████████                      | 1.0MB 7.1MB/s eta 0:00:01\r\u001b[K     |██████████                      | 1.0MB 7.1MB/s eta 0:00:01\r\u001b[K     |██████████▏                     | 1.0MB 7.1MB/s eta 0:00:01\r\u001b[K     |██████████▎                     | 1.1MB 7.1MB/s eta 0:00:01\r\u001b[K     |██████████▍                     | 1.1MB 7.1MB/s eta 0:00:01\r\u001b[K     |██████████▍                     | 1.1MB 7.1MB/s eta 0:00:01\r\u001b[K     |██████████▌                     | 1.1MB 7.1MB/s eta 0:00:01\r\u001b[K     |██████████▋                     | 1.1MB 7.1MB/s eta 0:00:01\r\u001b[K     |██████████▊                     | 1.1MB 7.1MB/s eta 0:00:01\r\u001b[K     |██████████▉                     | 1.1MB 7.1MB/s eta 0:00:01\r\u001b[K     |███████████                     | 1.1MB 7.1MB/s eta 0:00:01\r\u001b[K     |███████████                     | 1.1MB 7.1MB/s eta 0:00:01\r\u001b[K     |███████████▏                    | 1.1MB 7.1MB/s eta 0:00:01\r\u001b[K     |███████████▎                    | 1.2MB 7.1MB/s eta 0:00:01\r\u001b[K     |███████████▍                    | 1.2MB 7.1MB/s eta 0:00:01\r\u001b[K     |███████████▍                    | 1.2MB 7.1MB/s eta 0:00:01\r\u001b[K     |███████████▌                    | 1.2MB 7.1MB/s eta 0:00:01\r\u001b[K     |███████████▋                    | 1.2MB 7.1MB/s eta 0:00:01\r\u001b[K     |███████████▊                    | 1.2MB 7.1MB/s eta 0:00:01\r\u001b[K     |███████████▉                    | 1.2MB 7.1MB/s eta 0:00:01\r\u001b[K     |████████████                    | 1.2MB 7.1MB/s eta 0:00:01\r\u001b[K     |████████████                    | 1.2MB 7.1MB/s eta 0:00:01\r\u001b[K     |████████████▏                   | 1.2MB 7.1MB/s eta 0:00:01\r\u001b[K     |████████████▎                   | 1.3MB 7.1MB/s eta 0:00:01\r\u001b[K     |████████████▎                   | 1.3MB 7.1MB/s eta 0:00:01\r\u001b[K     |████████████▍                   | 1.3MB 7.1MB/s eta 0:00:01\r\u001b[K     |████████████▌                   | 1.3MB 7.1MB/s eta 0:00:01\r\u001b[K     |████████████▋                   | 1.3MB 7.1MB/s eta 0:00:01\r\u001b[K     |████████████▊                   | 1.3MB 7.1MB/s eta 0:00:01\r\u001b[K     |████████████▉                   | 1.3MB 7.1MB/s eta 0:00:01\r\u001b[K     |█████████████                   | 1.3MB 7.1MB/s eta 0:00:01\r\u001b[K     |█████████████                   | 1.3MB 7.1MB/s eta 0:00:01\r\u001b[K     |█████████████▏                  | 1.4MB 7.1MB/s eta 0:00:01\r\u001b[K     |█████████████▎                  | 1.4MB 7.1MB/s eta 0:00:01\r\u001b[K     |█████████████▎                  | 1.4MB 7.1MB/s eta 0:00:01\r\u001b[K     |█████████████▍                  | 1.4MB 7.1MB/s eta 0:00:01\r\u001b[K     |█████████████▌                  | 1.4MB 7.1MB/s eta 0:00:01\r\u001b[K     |█████████████▋                  | 1.4MB 7.1MB/s eta 0:00:01\r\u001b[K     |█████████████▊                  | 1.4MB 7.1MB/s eta 0:00:01\r\u001b[K     |█████████████▉                  | 1.4MB 7.1MB/s eta 0:00:01\r\u001b[K     |██████████████                  | 1.4MB 7.1MB/s eta 0:00:01\r\u001b[K     |██████████████                  | 1.4MB 7.1MB/s eta 0:00:01\r\u001b[K     |██████████████▏                 | 1.5MB 7.1MB/s eta 0:00:01\r\u001b[K     |██████████████▏                 | 1.5MB 7.1MB/s eta 0:00:01\r\u001b[K     |██████████████▎                 | 1.5MB 7.1MB/s eta 0:00:01\r\u001b[K     |██████████████▍                 | 1.5MB 7.1MB/s eta 0:00:01\r\u001b[K     |██████████████▌                 | 1.5MB 7.1MB/s eta 0:00:01\r\u001b[K     |██████████████▋                 | 1.5MB 7.1MB/s eta 0:00:01\r\u001b[K     |██████████████▊                 | 1.5MB 7.1MB/s eta 0:00:01\r\u001b[K     |██████████████▉                 | 1.5MB 7.1MB/s eta 0:00:01\r\u001b[K     |███████████████                 | 1.5MB 7.1MB/s eta 0:00:01\r\u001b[K     |███████████████                 | 1.5MB 7.1MB/s eta 0:00:01\r\u001b[K     |███████████████▏                | 1.6MB 7.1MB/s eta 0:00:01\r\u001b[K     |███████████████▏                | 1.6MB 7.1MB/s eta 0:00:01\r\u001b[K     |███████████████▎                | 1.6MB 7.1MB/s eta 0:00:01\r\u001b[K     |███████████████▍                | 1.6MB 7.1MB/s eta 0:00:01\r\u001b[K     |███████████████▌                | 1.6MB 7.1MB/s eta 0:00:01\r\u001b[K     |███████████████▋                | 1.6MB 7.1MB/s eta 0:00:01\r\u001b[K     |███████████████▊                | 1.6MB 7.1MB/s eta 0:00:01\r\u001b[K     |███████████████▉                | 1.6MB 7.1MB/s eta 0:00:01\r\u001b[K     |████████████████                | 1.6MB 7.1MB/s eta 0:00:01\r\u001b[K     |████████████████                | 1.6MB 7.1MB/s eta 0:00:01\r\u001b[K     |████████████████                | 1.7MB 7.1MB/s eta 0:00:01\r\u001b[K     |████████████████▏               | 1.7MB 7.1MB/s eta 0:00:01\r\u001b[K     |████████████████▎               | 1.7MB 7.1MB/s eta 0:00:01\r\u001b[K     |████████████████▍               | 1.7MB 7.1MB/s eta 0:00:01\r\u001b[K     |████████████████▌               | 1.7MB 7.1MB/s eta 0:00:01\r\u001b[K     |████████████████▋               | 1.7MB 7.1MB/s eta 0:00:01\r\u001b[K     |████████████████▊               | 1.7MB 7.1MB/s eta 0:00:01\r\u001b[K     |████████████████▉               | 1.7MB 7.1MB/s eta 0:00:01\r\u001b[K     |█████████████████               | 1.7MB 7.1MB/s eta 0:00:01\r\u001b[K     |█████████████████               | 1.8MB 7.1MB/s eta 0:00:01\r\u001b[K     |█████████████████               | 1.8MB 7.1MB/s eta 0:00:01\r\u001b[K     |█████████████████▏              | 1.8MB 7.1MB/s eta 0:00:01\r\u001b[K     |█████████████████▎              | 1.8MB 7.1MB/s eta 0:00:01\r\u001b[K     |█████████████████▍              | 1.8MB 7.1MB/s eta 0:00:01\r\u001b[K     |█████████████████▌              | 1.8MB 7.1MB/s eta 0:00:01\r\u001b[K     |█████████████████▋              | 1.8MB 7.1MB/s eta 0:00:01\r\u001b[K     |█████████████████▊              | 1.8MB 7.1MB/s eta 0:00:01\r\u001b[K     |█████████████████▉              | 1.8MB 7.1MB/s eta 0:00:01\r\u001b[K     |██████████████████              | 1.8MB 7.1MB/s eta 0:00:01\r\u001b[K     |██████████████████              | 1.9MB 7.1MB/s eta 0:00:01\r\u001b[K     |██████████████████              | 1.9MB 7.1MB/s eta 0:00:01\r\u001b[K     |██████████████████▏             | 1.9MB 7.1MB/s eta 0:00:01\r\u001b[K     |██████████████████▎             | 1.9MB 7.1MB/s eta 0:00:01\r\u001b[K     |██████████████████▍             | 1.9MB 7.1MB/s eta 0:00:01\r\u001b[K     |██████████████████▌             | 1.9MB 7.1MB/s eta 0:00:01\r\u001b[K     |██████████████████▋             | 1.9MB 7.1MB/s eta 0:00:01\r\u001b[K     |██████████████████▊             | 1.9MB 7.1MB/s eta 0:00:01\r\u001b[K     |██████████████████▉             | 1.9MB 7.1MB/s eta 0:00:01\r\u001b[K     |███████████████████             | 1.9MB 7.1MB/s eta 0:00:01\r\u001b[K     |███████████████████             | 2.0MB 7.1MB/s eta 0:00:01\r\u001b[K     |███████████████████             | 2.0MB 7.1MB/s eta 0:00:01\r\u001b[K     |███████████████████▏            | 2.0MB 7.1MB/s eta 0:00:01\r\u001b[K     |███████████████████▎            | 2.0MB 7.1MB/s eta 0:00:01\r\u001b[K     |███████████████████▍            | 2.0MB 7.1MB/s eta 0:00:01\r\u001b[K     |███████████████████▌            | 2.0MB 7.1MB/s eta 0:00:01\r\u001b[K     |███████████████████▋            | 2.0MB 7.1MB/s eta 0:00:01\r\u001b[K     |███████████████████▊            | 2.0MB 7.1MB/s eta 0:00:01\r\u001b[K     |███████████████████▉            | 2.0MB 7.1MB/s eta 0:00:01\r\u001b[K     |███████████████████▉            | 2.0MB 7.1MB/s eta 0:00:01\r\u001b[K     |████████████████████            | 2.1MB 7.1MB/s eta 0:00:01\r\u001b[K     |████████████████████            | 2.1MB 7.1MB/s eta 0:00:01\r\u001b[K     |████████████████████▏           | 2.1MB 7.1MB/s eta 0:00:01\r\u001b[K     |████████████████████▎           | 2.1MB 7.1MB/s eta 0:00:01\r\u001b[K     |████████████████████▍           | 2.1MB 7.1MB/s eta 0:00:01\r\u001b[K     |████████████████████▌           | 2.1MB 7.1MB/s eta 0:00:01\r\u001b[K     |████████████████████▋           | 2.1MB 7.1MB/s eta 0:00:01\r\u001b[K     |████████████████████▊           | 2.1MB 7.1MB/s eta 0:00:01\r\u001b[K     |████████████████████▉           | 2.1MB 7.1MB/s eta 0:00:01\r\u001b[K     |████████████████████▉           | 2.2MB 7.1MB/s eta 0:00:01\r\u001b[K     |█████████████████████           | 2.2MB 7.1MB/s eta 0:00:01\r\u001b[K     |█████████████████████           | 2.2MB 7.1MB/s eta 0:00:01\r\u001b[K     |█████████████████████▏          | 2.2MB 7.1MB/s eta 0:00:01\r\u001b[K     |█████████████████████▎          | 2.2MB 7.1MB/s eta 0:00:01\r\u001b[K     |█████████████████████▍          | 2.2MB 7.1MB/s eta 0:00:01\r\u001b[K     |█████████████████████▌          | 2.2MB 7.1MB/s eta 0:00:01\r\u001b[K     |█████████████████████▋          | 2.2MB 7.1MB/s eta 0:00:01\r\u001b[K     |█████████████████████▊          | 2.2MB 7.1MB/s eta 0:00:01\r\u001b[K     |█████████████████████▊          | 2.2MB 7.1MB/s eta 0:00:01\r\u001b[K     |█████████████████████▉          | 2.3MB 7.1MB/s eta 0:00:01\r\u001b[K     |██████████████████████          | 2.3MB 7.1MB/s eta 0:00:01\r\u001b[K     |██████████████████████          | 2.3MB 7.1MB/s eta 0:00:01\r\u001b[K     |██████████████████████▏         | 2.3MB 7.1MB/s eta 0:00:01\r\u001b[K     |██████████████████████▎         | 2.3MB 7.1MB/s eta 0:00:01\r\u001b[K     |██████████████████████▍         | 2.3MB 7.1MB/s eta 0:00:01\r\u001b[K     |██████████████████████▌         | 2.3MB 7.1MB/s eta 0:00:01\r\u001b[K     |██████████████████████▋         | 2.3MB 7.1MB/s eta 0:00:01\r\u001b[K     |██████████████████████▊         | 2.3MB 7.1MB/s eta 0:00:01\r\u001b[K     |██████████████████████▊         | 2.3MB 7.1MB/s eta 0:00:01\r\u001b[K     |██████████████████████▉         | 2.4MB 7.1MB/s eta 0:00:01\r\u001b[K     |███████████████████████         | 2.4MB 7.1MB/s eta 0:00:01\r\u001b[K     |███████████████████████         | 2.4MB 7.1MB/s eta 0:00:01\r\u001b[K     |███████████████████████▏        | 2.4MB 7.1MB/s eta 0:00:01\r\u001b[K     |███████████████████████▎        | 2.4MB 7.1MB/s eta 0:00:01\r\u001b[K     |███████████████████████▍        | 2.4MB 7.1MB/s eta 0:00:01\r\u001b[K     |███████████████████████▌        | 2.4MB 7.1MB/s eta 0:00:01\r\u001b[K     |███████████████████████▋        | 2.4MB 7.1MB/s eta 0:00:01\r\u001b[K     |███████████████████████▋        | 2.4MB 7.1MB/s eta 0:00:01\r\u001b[K     |███████████████████████▊        | 2.4MB 7.1MB/s eta 0:00:01\r\u001b[K     |███████████████████████▉        | 2.5MB 7.1MB/s eta 0:00:01\r\u001b[K     |████████████████████████        | 2.5MB 7.1MB/s eta 0:00:01\r\u001b[K     |████████████████████████        | 2.5MB 7.1MB/s eta 0:00:01\r\u001b[K     |████████████████████████▏       | 2.5MB 7.1MB/s eta 0:00:01\r\u001b[K     |████████████████████████▎       | 2.5MB 7.1MB/s eta 0:00:01\r\u001b[K     |████████████████████████▍       | 2.5MB 7.1MB/s eta 0:00:01\r\u001b[K     |████████████████████████▌       | 2.5MB 7.1MB/s eta 0:00:01\r\u001b[K     |████████████████████████▋       | 2.5MB 7.1MB/s eta 0:00:01\r\u001b[K     |████████████████████████▋       | 2.5MB 7.1MB/s eta 0:00:01\r\u001b[K     |████████████████████████▊       | 2.5MB 7.1MB/s eta 0:00:01\r\u001b[K     |████████████████████████▉       | 2.6MB 7.1MB/s eta 0:00:01\r\u001b[K     |█████████████████████████       | 2.6MB 7.1MB/s eta 0:00:01\r\u001b[K     |█████████████████████████       | 2.6MB 7.1MB/s eta 0:00:01\r\u001b[K     |█████████████████████████▏      | 2.6MB 7.1MB/s eta 0:00:01\r\u001b[K     |█████████████████████████▎      | 2.6MB 7.1MB/s eta 0:00:01\r\u001b[K     |█████████████████████████▍      | 2.6MB 7.1MB/s eta 0:00:01\r\u001b[K     |█████████████████████████▌      | 2.6MB 7.1MB/s eta 0:00:01\r\u001b[K     |█████████████████████████▌      | 2.6MB 7.1MB/s eta 0:00:01\r\u001b[K     |█████████████████████████▋      | 2.6MB 7.1MB/s eta 0:00:01\r\u001b[K     |█████████████████████████▊      | 2.7MB 7.1MB/s eta 0:00:01\r\u001b[K     |█████████████████████████▉      | 2.7MB 7.1MB/s eta 0:00:01\r\u001b[K     |██████████████████████████      | 2.7MB 7.1MB/s eta 0:00:01\r\u001b[K     |██████████████████████████      | 2.7MB 7.1MB/s eta 0:00:01\r\u001b[K     |██████████████████████████▏     | 2.7MB 7.1MB/s eta 0:00:01\r\u001b[K     |██████████████████████████▎     | 2.7MB 7.1MB/s eta 0:00:01\r\u001b[K     |██████████████████████████▍     | 2.7MB 7.1MB/s eta 0:00:01\r\u001b[K     |██████████████████████████▌     | 2.7MB 7.1MB/s eta 0:00:01\r\u001b[K     |██████████████████████████▌     | 2.7MB 7.1MB/s eta 0:00:01\r\u001b[K     |██████████████████████████▋     | 2.7MB 7.1MB/s eta 0:00:01\r\u001b[K     |██████████████████████████▊     | 2.8MB 7.1MB/s eta 0:00:01\r\u001b[K     |██████████████████████████▉     | 2.8MB 7.1MB/s eta 0:00:01\r\u001b[K     |███████████████████████████     | 2.8MB 7.1MB/s eta 0:00:01\r\u001b[K     |███████████████████████████     | 2.8MB 7.1MB/s eta 0:00:01\r\u001b[K     |███████████████████████████▏    | 2.8MB 7.1MB/s eta 0:00:01\r\u001b[K     |███████████████████████████▎    | 2.8MB 7.1MB/s eta 0:00:01\r\u001b[K     |███████████████████████████▍    | 2.8MB 7.1MB/s eta 0:00:01\r\u001b[K     |███████████████████████████▍    | 2.8MB 7.1MB/s eta 0:00:01\r\u001b[K     |███████████████████████████▌    | 2.8MB 7.1MB/s eta 0:00:01\r\u001b[K     |███████████████████████████▋    | 2.8MB 7.1MB/s eta 0:00:01\r\u001b[K     |███████████████████████████▊    | 2.9MB 7.1MB/s eta 0:00:01\r\u001b[K     |███████████████████████████▉    | 2.9MB 7.1MB/s eta 0:00:01\r\u001b[K     |████████████████████████████    | 2.9MB 7.1MB/s eta 0:00:01\r\u001b[K     |████████████████████████████    | 2.9MB 7.1MB/s eta 0:00:01\r\u001b[K     |████████████████████████████▏   | 2.9MB 7.1MB/s eta 0:00:01\r\u001b[K     |████████████████████████████▎   | 2.9MB 7.1MB/s eta 0:00:01\r\u001b[K     |████████████████████████████▍   | 2.9MB 7.1MB/s eta 0:00:01\r\u001b[K     |████████████████████████████▍   | 2.9MB 7.1MB/s eta 0:00:01\r\u001b[K     |████████████████████████████▌   | 2.9MB 7.1MB/s eta 0:00:01\r\u001b[K     |████████████████████████████▋   | 2.9MB 7.1MB/s eta 0:00:01\r\u001b[K     |████████████████████████████▊   | 3.0MB 7.1MB/s eta 0:00:01\r\u001b[K     |████████████████████████████▉   | 3.0MB 7.1MB/s eta 0:00:01\r\u001b[K     |█████████████████████████████   | 3.0MB 7.1MB/s eta 0:00:01\r\u001b[K     |█████████████████████████████   | 3.0MB 7.1MB/s eta 0:00:01\r\u001b[K     |█████████████████████████████▏  | 3.0MB 7.1MB/s eta 0:00:01\r\u001b[K     |█████████████████████████████▎  | 3.0MB 7.1MB/s eta 0:00:01\r\u001b[K     |█████████████████████████████▎  | 3.0MB 7.1MB/s eta 0:00:01\r\u001b[K     |█████████████████████████████▍  | 3.0MB 7.1MB/s eta 0:00:01\r\u001b[K     |█████████████████████████████▌  | 3.0MB 7.1MB/s eta 0:00:01\r\u001b[K     |█████████████████████████████▋  | 3.1MB 7.1MB/s eta 0:00:01\r\u001b[K     |█████████████████████████████▊  | 3.1MB 7.1MB/s eta 0:00:01\r\u001b[K     |█████████████████████████████▉  | 3.1MB 7.1MB/s eta 0:00:01\r\u001b[K     |██████████████████████████████  | 3.1MB 7.1MB/s eta 0:00:01\r\u001b[K     |██████████████████████████████  | 3.1MB 7.1MB/s eta 0:00:01\r\u001b[K     |██████████████████████████████▏ | 3.1MB 7.1MB/s eta 0:00:01\r\u001b[K     |██████████████████████████████▎ | 3.1MB 7.1MB/s eta 0:00:01\r\u001b[K     |██████████████████████████████▎ | 3.1MB 7.1MB/s eta 0:00:01\r\u001b[K     |██████████████████████████████▍ | 3.1MB 7.1MB/s eta 0:00:01\r\u001b[K     |██████████████████████████████▌ | 3.1MB 7.1MB/s eta 0:00:01\r\u001b[K     |██████████████████████████████▋ | 3.2MB 7.1MB/s eta 0:00:01\r\u001b[K     |██████████████████████████████▊ | 3.2MB 7.1MB/s eta 0:00:01\r\u001b[K     |██████████████████████████████▉ | 3.2MB 7.1MB/s eta 0:00:01\r\u001b[K     |███████████████████████████████ | 3.2MB 7.1MB/s eta 0:00:01\r\u001b[K     |███████████████████████████████ | 3.2MB 7.1MB/s eta 0:00:01\r\u001b[K     |███████████████████████████████▏| 3.2MB 7.1MB/s eta 0:00:01\r\u001b[K     |███████████████████████████████▏| 3.2MB 7.1MB/s eta 0:00:01\r\u001b[K     |███████████████████████████████▎| 3.2MB 7.1MB/s eta 0:00:01\r\u001b[K     |███████████████████████████████▍| 3.2MB 7.1MB/s eta 0:00:01\r\u001b[K     |███████████████████████████████▌| 3.2MB 7.1MB/s eta 0:00:01\r\u001b[K     |███████████████████████████████▋| 3.3MB 7.1MB/s eta 0:00:01\r\u001b[K     |███████████████████████████████▊| 3.3MB 7.1MB/s eta 0:00:01\r\u001b[K     |███████████████████████████████▉| 3.3MB 7.1MB/s eta 0:00:01\r\u001b[K     |████████████████████████████████| 3.3MB 7.1MB/s eta 0:00:01\r\u001b[K     |████████████████████████████████| 3.3MB 7.1MB/s \n",
            "\u001b[?25hVersion:  2.2.0-rc2\n",
            "Eager mode:  True\n",
            "Hub version:  0.8.0\n",
            "GPU is available\n"
          ],
          "name": "stdout"
        }
      ]
    },
    {
      "cell_type": "code",
      "metadata": {
        "id": "4XfF_iwlp3EC",
        "colab_type": "code",
        "colab": {
          "base_uri": "https://localhost:8080/",
          "height": 348,
          "referenced_widgets": [
            "01afdde848b945bf9ea39573b542e05c",
            "0ff3b372d07a435cbc7409a0906e34d6",
            "fe80a402ecdc49c7bc7295eeb6eb99ba",
            "b6310651390d41128622079337d5a6a0",
            "d4b1f715dd054b42b1f4c895747ba432",
            "5b4392bfd3d74457b81c3f08d6c752da",
            "04b6d0f3a2904ea2bd44e4fad7a91eb3",
            "c8523bfcaa8a4b89862e7bc357a23fda",
            "2f024e44caf042b6af257c6c9bcb3b85",
            "883981f629074f3b85fde4efb44a7cb3",
            "806413dfb4d04e01b5c3d6548a1ade53",
            "bc51fb956dce469289ee96e9603aeb96",
            "ce1c7ac0437e48d69c6f9bcf2aaf20a8",
            "ff845647eaf24333a2f11cc6830855f6",
            "4cc5e2ca37d44776a33b86af648746e6",
            "8e4e56b7547c46ddab29897a70872711",
            "f100f36821f34e898e540a28e48ec8a5",
            "bb0e12c435144f0bb13d5569e3e03a14",
            "3c1edbc98d7e46a1b58e1207444443ef",
            "32b2e40786574b3683d405d6f57582f1",
            "e01c7d8f158e40faa95d19a13cc6305c",
            "7d96a642ead84769b8c60656efd2af71",
            "abd12c722e0641379613199640839403",
            "d6254fd59c1a4cef8e82f50db6a0cf6c",
            "483542482fdf42feba5db6eeecf5e00a",
            "7c6a0540f9f44f258419a36e39215f1f",
            "13a5921416f94bafb9a41fa9027f9398",
            "cee9eabdc0824fccb0fd04799d9b8a43",
            "e5b9e8c60c0d467483e0316418060d42",
            "042780f7ee824b4eb9166e0765384f2a",
            "d97e7c260f7f441da52ad3d3859c2e76",
            "7d0fc18600184fc39afa290bd34c477a",
            "763855414be14d2ea00d30bd438230e7",
            "23fdabc209e0485a962ce4844bb2b5b4",
            "cbdd538554d2406c96722a2122c8af69",
            "fa50e27b349e4e78b898a55d203e34c1",
            "d81ab08942e84d579063936ef4708e25",
            "51b0cfc71ffe48c68f74518a1525de89",
            "6dc0ab4ba451430f946fc316fcbd4746",
            "d40e18795921450c8d2575db70e04f66",
            "659d236ba4df44c79179061372a1aa6a",
            "1611f3e38dd249c5976822a7311dd53f",
            "c56d85f65e654fba905dcde664a0058c",
            "0776d7b094d74f1289f382b3894d670e",
            "1062d8c9dfce4618bf5c98a23034dac0",
            "bd050412200749c7973129e62cf3f557",
            "c7af916dab504cd68027ee0d97c7900e",
            "abadc8edf1cc477e8c85c7fd0a817c22",
            "83fce515641c4dabb946134f33b9869c",
            "b9abf9af2b9d44d3ad1886504142e48f",
            "15d49eacfee744feb1fac66ec8b6e3a3",
            "bbb49cffb02f49ae9af3e0323a06de32",
            "099d23a326824e83a676aa922356ee2a",
            "725dde9aafa04f05ba84e2895d91b8de",
            "8fc6d8341a69443caf8de5e8bcab1749",
            "aed87eba5c9b40a5a84ebd12b8484029",
            "6148a062046a427ebb585792cfd6fdb1",
            "638b245a6beb469dab1a7385aa3c2771",
            "667927cb3d494728a6ea4551f3194084",
            "cd887ad7efdf4bb78955aea2586cd704",
            "e31f9fe614b74bcba0cdec53af5f3044",
            "66573543ebe84acca654d5612db49555",
            "cb10669900794bc692e5a6734e1be22e",
            "a8502728cd1c4505b085d1ac92aecae5"
          ]
        },
        "outputId": "6678af69-8c98-4bf9-da96-941eba38da16"
      },
      "source": [
        "train_data, validation_data, test_data = tfds.load(name=\"imdb_reviews\",\n",
        "                                                   split=('train[:60%]', 'train[60%:]', 'test'),\n",
        "                                                   as_supervised=True)"
      ],
      "execution_count": null,
      "outputs": [
        {
          "output_type": "stream",
          "text": [
            "\u001b[1mDownloading and preparing dataset imdb_reviews/plain_text/1.0.0 (download: 80.23 MiB, generated: Unknown size, total: 80.23 MiB) to /root/tensorflow_datasets/imdb_reviews/plain_text/1.0.0...\u001b[0m\n"
          ],
          "name": "stdout"
        },
        {
          "output_type": "display_data",
          "data": {
            "application/vnd.jupyter.widget-view+json": {
              "model_id": "01afdde848b945bf9ea39573b542e05c",
              "version_minor": 0,
              "version_major": 2
            },
            "text/plain": [
              "HBox(children=(IntProgress(value=1, bar_style='info', description='Dl Completed...', max=1, style=ProgressStyl…"
            ]
          },
          "metadata": {
            "tags": []
          }
        },
        {
          "output_type": "display_data",
          "data": {
            "application/vnd.jupyter.widget-view+json": {
              "model_id": "2f024e44caf042b6af257c6c9bcb3b85",
              "version_minor": 0,
              "version_major": 2
            },
            "text/plain": [
              "HBox(children=(IntProgress(value=1, bar_style='info', description='Dl Size...', max=1, style=ProgressStyle(des…"
            ]
          },
          "metadata": {
            "tags": []
          }
        },
        {
          "output_type": "stream",
          "text": [
            "\n",
            "\n",
            "\n",
            "\n"
          ],
          "name": "stdout"
        },
        {
          "output_type": "display_data",
          "data": {
            "application/vnd.jupyter.widget-view+json": {
              "model_id": "f100f36821f34e898e540a28e48ec8a5",
              "version_minor": 0,
              "version_major": 2
            },
            "text/plain": [
              "HBox(children=(IntProgress(value=1, bar_style='info', max=1), HTML(value='')))"
            ]
          },
          "metadata": {
            "tags": []
          }
        },
        {
          "output_type": "stream",
          "text": [
            "\rShuffling and writing examples to /root/tensorflow_datasets/imdb_reviews/plain_text/1.0.0.incompleteHOGTAV/imdb_reviews-train.tfrecord\n"
          ],
          "name": "stdout"
        },
        {
          "output_type": "display_data",
          "data": {
            "application/vnd.jupyter.widget-view+json": {
              "model_id": "483542482fdf42feba5db6eeecf5e00a",
              "version_minor": 0,
              "version_major": 2
            },
            "text/plain": [
              "HBox(children=(IntProgress(value=0, max=25000), HTML(value='')))"
            ]
          },
          "metadata": {
            "tags": []
          }
        },
        {
          "output_type": "stream",
          "text": [
            "\r"
          ],
          "name": "stdout"
        },
        {
          "output_type": "display_data",
          "data": {
            "application/vnd.jupyter.widget-view+json": {
              "model_id": "763855414be14d2ea00d30bd438230e7",
              "version_minor": 0,
              "version_major": 2
            },
            "text/plain": [
              "HBox(children=(IntProgress(value=1, bar_style='info', max=1), HTML(value='')))"
            ]
          },
          "metadata": {
            "tags": []
          }
        },
        {
          "output_type": "stream",
          "text": [
            "\rShuffling and writing examples to /root/tensorflow_datasets/imdb_reviews/plain_text/1.0.0.incompleteHOGTAV/imdb_reviews-test.tfrecord\n"
          ],
          "name": "stdout"
        },
        {
          "output_type": "display_data",
          "data": {
            "application/vnd.jupyter.widget-view+json": {
              "model_id": "659d236ba4df44c79179061372a1aa6a",
              "version_minor": 0,
              "version_major": 2
            },
            "text/plain": [
              "HBox(children=(IntProgress(value=0, max=25000), HTML(value='')))"
            ]
          },
          "metadata": {
            "tags": []
          }
        },
        {
          "output_type": "stream",
          "text": [
            "\r"
          ],
          "name": "stdout"
        },
        {
          "output_type": "display_data",
          "data": {
            "application/vnd.jupyter.widget-view+json": {
              "model_id": "83fce515641c4dabb946134f33b9869c",
              "version_minor": 0,
              "version_major": 2
            },
            "text/plain": [
              "HBox(children=(IntProgress(value=1, bar_style='info', max=1), HTML(value='')))"
            ]
          },
          "metadata": {
            "tags": []
          }
        },
        {
          "output_type": "stream",
          "text": [
            "\rShuffling and writing examples to /root/tensorflow_datasets/imdb_reviews/plain_text/1.0.0.incompleteHOGTAV/imdb_reviews-unsupervised.tfrecord\n"
          ],
          "name": "stdout"
        },
        {
          "output_type": "display_data",
          "data": {
            "application/vnd.jupyter.widget-view+json": {
              "model_id": "6148a062046a427ebb585792cfd6fdb1",
              "version_minor": 0,
              "version_major": 2
            },
            "text/plain": [
              "HBox(children=(IntProgress(value=0, max=50000), HTML(value='')))"
            ]
          },
          "metadata": {
            "tags": []
          }
        },
        {
          "output_type": "stream",
          "text": [
            "\u001b[1mDataset imdb_reviews downloaded and prepared to /root/tensorflow_datasets/imdb_reviews/plain_text/1.0.0. Subsequent calls will reuse this data.\u001b[0m\n",
            "\r"
          ],
          "name": "stdout"
        }
      ]
    },
    {
      "cell_type": "markdown",
      "metadata": {
        "id": "JZrmUNaX8os6",
        "colab_type": "text"
      },
      "source": [
        "## Explore the data"
      ]
    },
    {
      "cell_type": "code",
      "metadata": {
        "id": "D2MbWcBK86Rt",
        "colab_type": "code",
        "colab": {
          "base_uri": "https://localhost:8080/",
          "height": 121
        },
        "outputId": "0076f793-43dc-462e-db33-cbc98a70a5f2"
      },
      "source": [
        "train_examples_batch, train_labels_batch = next(iter(train_data.batch(10)))\n",
        "train_examples_batch[:3]"
      ],
      "execution_count": null,
      "outputs": [
        {
          "output_type": "execute_result",
          "data": {
            "text/plain": [
              "<tf.Tensor: shape=(3,), dtype=string, numpy=\n",
              "array([b\"This was an absolutely terrible movie. Don't be lured in by Christopher Walken or Michael Ironside. Both are great actors, but this must simply be their worst role in history. Even their great acting could not redeem this movie's ridiculous storyline. This movie is an early nineties US propaganda piece. The most pathetic scenes were those when the Columbian rebels were making their cases for revolutions. Maria Conchita Alonso appeared phony, and her pseudo-love affair with Walken was nothing but a pathetic emotional plug in a movie that was devoid of any real meaning. I am disappointed that there are movies like this, ruining actor's like Christopher Walken's good name. I could barely sit through it.\",\n",
              "       b'I have been known to fall asleep during films, but this is usually due to a combination of things including, really tired, being warm and comfortable on the sette and having just eaten a lot. However on this occasion I fell asleep because the film was rubbish. The plot development was constant. Constantly slow and boring. Things seemed to happen, but with no explanation of what was causing them or why. I admit, I may have missed part of the film, but i watched the majority of it and everything just seemed to happen of its own accord without any real concern for anything else. I cant recommend this film at all.',\n",
              "       b'Mann photographs the Alberta Rocky Mountains in a superb fashion, and Jimmy Stewart and Walter Brennan give enjoyable performances as they always seem to do. <br /><br />But come on Hollywood - a Mountie telling the people of Dawson City, Yukon to elect themselves a marshal (yes a marshal!) and to enforce the law themselves, then gunfighters battling it out on the streets for control of the town? <br /><br />Nothing even remotely resembling that happened on the Canadian side of the border during the Klondike gold rush. Mr. Mann and company appear to have mistaken Dawson City for Deadwood, the Canadian North for the American Wild West.<br /><br />Canadian viewers be prepared for a Reefer Madness type of enjoyable howl with this ludicrous plot, or, to shake your head in disgust.'],\n",
              "      dtype=object)>"
            ]
          },
          "metadata": {
            "tags": []
          },
          "execution_count": 9
        }
      ]
    },
    {
      "cell_type": "code",
      "metadata": {
        "id": "ly3UIahW9XCJ",
        "colab_type": "code",
        "colab": {
          "base_uri": "https://localhost:8080/",
          "height": 34
        },
        "outputId": "c88bce3a-25bc-419f-ccca-7adb2f87efda"
      },
      "source": [
        "train_labels_batch"
      ],
      "execution_count": null,
      "outputs": [
        {
          "output_type": "execute_result",
          "data": {
            "text/plain": [
              "<tf.Tensor: shape=(10,), dtype=int64, numpy=array([0, 0, 0, 1, 1, 1, 0, 0, 0, 0])>"
            ]
          },
          "metadata": {
            "tags": []
          },
          "execution_count": 10
        }
      ]
    },
    {
      "cell_type": "markdown",
      "metadata": {
        "id": "ShjnMZvH9ci3",
        "colab_type": "text"
      },
      "source": [
        "##Build the model\n",
        "The neural network is created by stacking layers—this requires three main architectural decisions:\n",
        "\n",
        "* How to represent the text?\n",
        "* How many layers to use in the model?\n",
        "* How many hidden units to use for each layer?\n",
        "\n",
        "In this example, the input data consists of sentences. The labels to predict are either 0 or 1.\n",
        "\n",
        "One way to represent the text is to convert sentences into embeddings vectors. We can use a pre-trained text embedding as the first layer, which will have three advantages:\n",
        "\n",
        "* we don't have to worry about text preprocessing,\n",
        "* we can benefit from transfer learning,\n",
        "* the embedding has a fixed size, so it's simpler to process.\n",
        "\n",
        "For this example we will use a pre-trained text embedding model from TensorFlow Hub called google/tf2-preview/gnews-swivel-20dim/1.\n",
        "\n",
        "There are three other pre-trained models to test for the sake of this tutorial:\n",
        "\n",
        "* google/tf2-preview/gnews-swivel-20dim-with-oov/1 - same as google/tf2-preview/gnews-swivel-20dim/1, but with 2.5% vocabulary converted to OOV buckets. This can help if vocabulary of the task and vocabulary of the model don't fully overlap.\n",
        "* google/tf2-preview/nnlm-en-dim50/1 - A much larger model with ~1M vocabulary size and 50 dimensions.\n",
        "* google/tf2-preview/nnlm-en-dim128/1 - Even larger model with ~1M vocabulary size and 128 dimensions.\n",
        "\n",
        "Let's first create a Keras layer that uses a TensorFlow Hub model to embed the sentences, and try it out on a couple of input examples. Note that no matter the length of the input text, the output shape of the embeddings is: `(num_examples, embedding_dimension)`."
      ]
    },
    {
      "cell_type": "code",
      "metadata": {
        "id": "kss2Qr6s9riV",
        "colab_type": "code",
        "colab": {
          "base_uri": "https://localhost:8080/",
          "height": 252
        },
        "outputId": "c40d55e6-f627-4664-a7f6-ff005281ec9c"
      },
      "source": [
        "embedding = \"https://tfhub.dev/google/tf2-preview/gnews-swivel-20dim/1\"\n",
        "hub_layer = hub.KerasLayer(embedding, input_shape=[],\n",
        "                           dtype=tf.string, trainable=True)\n",
        "\n",
        "# let's check how it's going to map sentences into its embedding vector\n",
        "hub_layer(train_examples_batch[:3])"
      ],
      "execution_count": null,
      "outputs": [
        {
          "output_type": "execute_result",
          "data": {
            "text/plain": [
              "<tf.Tensor: shape=(3, 20), dtype=float32, numpy=\n",
              "array([[ 1.765786  , -3.882232  ,  3.9134233 , -1.5557289 , -3.3362343 ,\n",
              "        -1.7357955 , -1.9954445 ,  1.2989551 ,  5.081598  , -1.1041286 ,\n",
              "        -2.0503852 , -0.72675157, -0.65675956,  0.24436149, -3.7208383 ,\n",
              "         2.0954835 ,  2.2969332 , -2.0689783 , -2.9489717 , -1.1315987 ],\n",
              "       [ 1.8804485 , -2.5852382 ,  3.4066997 ,  1.0982676 , -4.056685  ,\n",
              "        -4.891284  , -2.785554  ,  1.3874227 ,  3.8476458 , -0.9256538 ,\n",
              "        -1.896706  ,  1.2113281 ,  0.11474707,  0.76209456, -4.8791065 ,\n",
              "         2.906149  ,  4.7087674 , -2.3652055 , -3.5015898 , -1.6390051 ],\n",
              "       [ 0.71152234, -0.6353217 ,  1.7385626 , -1.1168286 , -0.5451594 ,\n",
              "        -1.1808156 ,  0.09504455,  1.4653089 ,  0.66059524,  0.79308075,\n",
              "        -2.2268345 ,  0.07446612, -1.4075904 , -0.70645386, -1.907037  ,\n",
              "         1.4419787 ,  1.9551861 , -0.42660055, -2.8022065 ,  0.43727064]],\n",
              "      dtype=float32)>"
            ]
          },
          "metadata": {
            "tags": []
          },
          "execution_count": 11
        }
      ]
    },
    {
      "cell_type": "markdown",
      "metadata": {
        "id": "DNDB5jA__UKu",
        "colab_type": "text"
      },
      "source": [
        "**Let's now build the full model**"
      ]
    },
    {
      "cell_type": "code",
      "metadata": {
        "id": "WTU9tRNB_rdm",
        "colab_type": "code",
        "colab": {
          "base_uri": "https://localhost:8080/",
          "height": 252
        },
        "outputId": "6374cb2d-af8b-4b8d-b610-4c12e3dd3013"
      },
      "source": [
        "model = tf.keras.Sequential()\n",
        "model.add(hub_layer)\n",
        "model.add(tf.keras.layers.Dense(16, activation='relu'))\n",
        "model.add(tf.keras.layers.Dense(1))\n",
        "\n",
        "model.summary()"
      ],
      "execution_count": null,
      "outputs": [
        {
          "output_type": "stream",
          "text": [
            "Model: \"sequential\"\n",
            "_________________________________________________________________\n",
            "Layer (type)                 Output Shape              Param #   \n",
            "=================================================================\n",
            "keras_layer_1 (KerasLayer)   (None, 20)                400020    \n",
            "_________________________________________________________________\n",
            "dense (Dense)                (None, 16)                336       \n",
            "_________________________________________________________________\n",
            "dense_1 (Dense)              (None, 1)                 17        \n",
            "=================================================================\n",
            "Total params: 400,373\n",
            "Trainable params: 400,373\n",
            "Non-trainable params: 0\n",
            "_________________________________________________________________\n"
          ],
          "name": "stdout"
        }
      ]
    },
    {
      "cell_type": "markdown",
      "metadata": {
        "id": "25nC1Ag5ABFS",
        "colab_type": "text"
      },
      "source": [
        "**Compile the model**"
      ]
    },
    {
      "cell_type": "markdown",
      "metadata": {
        "id": "23SpHt3PAv_r",
        "colab_type": "text"
      },
      "source": [
        "## Loss function and Optimizer"
      ]
    },
    {
      "cell_type": "markdown",
      "metadata": {
        "id": "U2LmtkBKA2hW",
        "colab_type": "text"
      },
      "source": [
        "A model needs a loss function and an optimizer for training. Since this is a binary classification problem and the model outputs a probability (a single-unit layer with a sigmoid activation), we'll use the `binary_crossentropy` loss function.\n",
        "\n",
        "This isn't the only choice for a loss function, you could, for instance, choose `mean_squared_error`. But, generally, `binary_crossentropy` is better for dealing with probabilities—it measures the \"distance\" between probability distributions, or in our case, between the ground-truth distribution and the predictions."
      ]
    },
    {
      "cell_type": "code",
      "metadata": {
        "id": "qG7nYEVmBIYd",
        "colab_type": "code",
        "colab": {}
      },
      "source": [
        "model.compile(optimizer='adam',\n",
        "              loss=tf.keras.losses.BinaryCrossentropy(from_logits=True),\n",
        "              metrics=['accuracy'])"
      ],
      "execution_count": null,
      "outputs": []
    },
    {
      "cell_type": "markdown",
      "metadata": {
        "id": "fosz2ezaBixz",
        "colab_type": "text"
      },
      "source": [
        "## Train the model"
      ]
    },
    {
      "cell_type": "code",
      "metadata": {
        "id": "VybqFLGrBnbo",
        "colab_type": "code",
        "colab": {
          "base_uri": "https://localhost:8080/",
          "height": 709
        },
        "outputId": "99601825-578e-4bb6-ecda-e4a36073717c"
      },
      "source": [
        "history = model.fit(train_data.shuffle(10000).batch(512),\n",
        "                    epochs=20,\n",
        "                    validation_data=validation_data.batch(512),\n",
        "                    verbose=1)"
      ],
      "execution_count": null,
      "outputs": [
        {
          "output_type": "stream",
          "text": [
            "Epoch 1/20\n",
            "30/30 [==============================] - 3s 90ms/step - loss: 0.9014 - accuracy: 0.4963 - val_loss: 0.7308 - val_accuracy: 0.5210\n",
            "Epoch 2/20\n",
            "30/30 [==============================] - 3s 89ms/step - loss: 0.6969 - accuracy: 0.5527 - val_loss: 0.6767 - val_accuracy: 0.5814\n",
            "Epoch 3/20\n",
            "30/30 [==============================] - 3s 86ms/step - loss: 0.6609 - accuracy: 0.5977 - val_loss: 0.6484 - val_accuracy: 0.6072\n",
            "Epoch 4/20\n",
            "30/30 [==============================] - 3s 84ms/step - loss: 0.6310 - accuracy: 0.6189 - val_loss: 0.6205 - val_accuracy: 0.6315\n",
            "Epoch 5/20\n",
            "30/30 [==============================] - 3s 89ms/step - loss: 0.6006 - accuracy: 0.6547 - val_loss: 0.5915 - val_accuracy: 0.6599\n",
            "Epoch 6/20\n",
            "30/30 [==============================] - 3s 89ms/step - loss: 0.5655 - accuracy: 0.6839 - val_loss: 0.5579 - val_accuracy: 0.6957\n",
            "Epoch 7/20\n",
            "30/30 [==============================] - 3s 86ms/step - loss: 0.5272 - accuracy: 0.7213 - val_loss: 0.5193 - val_accuracy: 0.7260\n",
            "Epoch 8/20\n",
            "30/30 [==============================] - 3s 87ms/step - loss: 0.4847 - accuracy: 0.7569 - val_loss: 0.4814 - val_accuracy: 0.7666\n",
            "Epoch 9/20\n",
            "30/30 [==============================] - 3s 86ms/step - loss: 0.4416 - accuracy: 0.7883 - val_loss: 0.4485 - val_accuracy: 0.7954\n",
            "Epoch 10/20\n",
            "30/30 [==============================] - 3s 87ms/step - loss: 0.4028 - accuracy: 0.8153 - val_loss: 0.4156 - val_accuracy: 0.7968\n",
            "Epoch 11/20\n",
            "30/30 [==============================] - 3s 89ms/step - loss: 0.3662 - accuracy: 0.8371 - val_loss: 0.3929 - val_accuracy: 0.8058\n",
            "Epoch 12/20\n",
            "30/30 [==============================] - 3s 88ms/step - loss: 0.3374 - accuracy: 0.8519 - val_loss: 0.3709 - val_accuracy: 0.8305\n",
            "Epoch 13/20\n",
            "30/30 [==============================] - 3s 85ms/step - loss: 0.3116 - accuracy: 0.8676 - val_loss: 0.3546 - val_accuracy: 0.8392\n",
            "Epoch 14/20\n",
            "30/30 [==============================] - 3s 88ms/step - loss: 0.2867 - accuracy: 0.8807 - val_loss: 0.3432 - val_accuracy: 0.8378\n",
            "Epoch 15/20\n",
            "30/30 [==============================] - 3s 88ms/step - loss: 0.2686 - accuracy: 0.8892 - val_loss: 0.3317 - val_accuracy: 0.8460\n",
            "Epoch 16/20\n",
            "30/30 [==============================] - 3s 88ms/step - loss: 0.2508 - accuracy: 0.8991 - val_loss: 0.3230 - val_accuracy: 0.8536\n",
            "Epoch 17/20\n",
            "30/30 [==============================] - 3s 88ms/step - loss: 0.2317 - accuracy: 0.9075 - val_loss: 0.3177 - val_accuracy: 0.8612\n",
            "Epoch 18/20\n",
            "30/30 [==============================] - 3s 86ms/step - loss: 0.2183 - accuracy: 0.9160 - val_loss: 0.3112 - val_accuracy: 0.8607\n",
            "Epoch 19/20\n",
            "30/30 [==============================] - 3s 87ms/step - loss: 0.2043 - accuracy: 0.9211 - val_loss: 0.3077 - val_accuracy: 0.8638\n",
            "Epoch 20/20\n",
            "30/30 [==============================] - 3s 88ms/step - loss: 0.1926 - accuracy: 0.9290 - val_loss: 0.3049 - val_accuracy: 0.8649\n"
          ],
          "name": "stdout"
        }
      ]
    },
    {
      "cell_type": "markdown",
      "metadata": {
        "id": "deqmDQ39B8u8",
        "colab_type": "text"
      },
      "source": [
        "## Evaluate the model"
      ]
    },
    {
      "cell_type": "code",
      "metadata": {
        "id": "NCxjHc1cCU7P",
        "colab_type": "code",
        "colab": {
          "base_uri": "https://localhost:8080/",
          "height": 67
        },
        "outputId": "b364628e-60e2-411c-8ff8-9f03e4ee5abe"
      },
      "source": [
        "results = model.evaluate(test_data.batch(512), verbose=2)\n",
        "\n",
        "for name, value in zip(model.metrics_names, results):\n",
        "    print(\"%s:  %.3f\" % (name, value))"
      ],
      "execution_count": null,
      "outputs": [
        {
          "output_type": "stream",
          "text": [
            "49/49 - 3s - loss: 0.3223 - accuracy: 0.8547\n",
            "loss:  0.322\n",
            "accuracy:  0.855\n"
          ],
          "name": "stdout"
        }
      ]
    },
    {
      "cell_type": "code",
      "metadata": {
        "id": "-elCU45qCtdD",
        "colab_type": "code",
        "colab": {}
      },
      "source": [
        ""
      ],
      "execution_count": null,
      "outputs": []
    }
  ]
}